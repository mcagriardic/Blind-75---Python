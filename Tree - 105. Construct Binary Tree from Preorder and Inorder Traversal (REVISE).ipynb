{
 "cells": [
  {
   "cell_type": "code",
   "execution_count": null,
   "metadata": {},
   "outputs": [],
   "source": []
  },
  {
   "cell_type": "code",
   "execution_count": null,
   "metadata": {},
   "outputs": [],
   "source": [
    "class Solution:\n",
    "    def buildTree(self, preorder: List[int], inorder: List[int]) -> Optional[TreeNode]:\n",
    "        inorder_indices = {v:i for i,v in enumerate(inorder)}\n",
    "        preorder_index = 0\n",
    "        def create_tree(left, right):\n",
    "            nonlocal preorder_index\n",
    "            if left > right:\n",
    "                return None\n",
    "            root_val = preorder[preorder_index]\n",
    "            root = TreeNode(root_val)\n",
    "            preorder_index += 1\n",
    "            root.left = create_tree(left, inorder_indices[root_val] - 1)\n",
    "            root.right = create_tree(inorder_indices[root_val] + 1, right)\n",
    "            return root\n",
    "        return create_tree(0, len(preorder) - 1)"
   ]
  }
 ],
 "metadata": {
  "kernelspec": {
   "display_name": "Python 3",
   "language": "python",
   "name": "python3"
  },
  "language_info": {
   "codemirror_mode": {
    "name": "ipython",
    "version": 3
   },
   "file_extension": ".py",
   "mimetype": "text/x-python",
   "name": "python",
   "nbconvert_exporter": "python",
   "pygments_lexer": "ipython3",
   "version": "3.7.6"
  }
 },
 "nbformat": 4,
 "nbformat_minor": 4
}
