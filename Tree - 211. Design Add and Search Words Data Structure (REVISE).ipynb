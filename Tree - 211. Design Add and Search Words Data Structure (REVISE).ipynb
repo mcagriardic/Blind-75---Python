{
 "cells": [
  {
   "cell_type": "code",
   "execution_count": null,
   "metadata": {},
   "outputs": [],
   "source": []
  },
  {
   "cell_type": "code",
   "execution_count": 1,
   "metadata": {},
   "outputs": [
    {
     "name": "stdout",
     "output_type": "stream",
     "text": [
      "True\n",
      "True\n",
      "False\n",
      "True\n",
      "False\n",
      "False\n",
      "False\n"
     ]
    }
   ],
   "source": [
    "from collections import deque\n",
    "\n",
    "class WordDictionary:\n",
    "    def __init__(self):\n",
    "        self.trie = {}\n",
    "\n",
    "    def addWord(self, word):\n",
    "        cur = self.trie\n",
    "        for char in word:\n",
    "            if char not in cur:\n",
    "                cur[char] = {}\n",
    "            cur = cur[char]\n",
    "        cur[\"$\"] = word\n",
    "\n",
    "    def search(self, word, st=0, cur=None):\n",
    "        if not cur:\n",
    "            cur = self.trie\n",
    "        for i in range(st, len(word)):\n",
    "            char = word[i]\n",
    "            if char != \".\":\n",
    "                if char not in cur:\n",
    "                    return False\n",
    "                else:\n",
    "                    cur = cur[char]\n",
    "            else:\n",
    "                for to_explore in cur:\n",
    "                    if to_explore != \"$\" and self.search(word, i+1, cur[to_explore]):\n",
    "                        return True\n",
    "                return False\n",
    "        return \"$\" in cur\n",
    "\n",
    "# wd = WordDictionary()\n",
    "# wd.addWord(\"bad\")\n",
    "# wd.addWord(\"dad\")\n",
    "# wd.addWord(\"mad\")\n",
    "# wd.search(\".ad\")\n",
    "# wd.search(\"b..\")\n",
    "\n",
    "wd = WordDictionary()\n",
    "wd.addWord(\"a\") \n",
    "wd.addWord(\"a\") \n",
    "print(wd.search(\".\"))      #true\n",
    "print(wd.search(\"a\"))      #true\n",
    "print(wd.search(\"aa\"))     #false\n",
    "print(wd.search(\"a\"))      #true \n",
    "print(wd.search(\".a\"))     #false\n",
    "print(wd.search(\".a\"))     #false \n",
    "print(wd.search(\"a.\"))     #false"
   ]
  },
  {
   "cell_type": "code",
   "execution_count": null,
   "metadata": {},
   "outputs": [],
   "source": []
  }
 ],
 "metadata": {
  "kernelspec": {
   "display_name": "Python 3",
   "language": "python",
   "name": "python3"
  },
  "language_info": {
   "codemirror_mode": {
    "name": "ipython",
    "version": 3
   },
   "file_extension": ".py",
   "mimetype": "text/x-python",
   "name": "python",
   "nbconvert_exporter": "python",
   "pygments_lexer": "ipython3",
   "version": "3.7.6"
  }
 },
 "nbformat": 4,
 "nbformat_minor": 4
}
