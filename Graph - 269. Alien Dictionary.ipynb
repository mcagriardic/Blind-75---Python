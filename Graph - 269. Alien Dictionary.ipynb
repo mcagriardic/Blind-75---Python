{
 "cells": [
  {
   "cell_type": "code",
   "execution_count": null,
   "metadata": {},
   "outputs": [],
   "source": []
  },
  {
   "cell_type": "code",
   "execution_count": null,
   "metadata": {},
   "outputs": [],
   "source": []
  },
  {
   "cell_type": "code",
   "execution_count": 1,
   "metadata": {},
   "outputs": [
    {
     "data": {
      "text/plain": [
       "''"
      ]
     },
     "execution_count": 1,
     "metadata": {},
     "output_type": "execute_result"
    }
   ],
   "source": [
    "from collections import deque\n",
    "\n",
    "class Node:\n",
    "    def __init__(self, val, out_nodes=None):\n",
    "        self.val = val\n",
    "        self.out_nodes = out_nodes if out_nodes else []\n",
    "        self.indegree = 0\n",
    "\n",
    "class Solution:\n",
    "    def alienOrder(self, words):\n",
    "        graph = {c: Node(c) for c in set(\"\".join(words))}\n",
    "        total = 0\n",
    "        for pair in zip(words, words[1:]):\n",
    "            for l, r in zip(*pair):\n",
    "                if l != r:\n",
    "                    graph[l].out_nodes.append(graph[r])\n",
    "                    graph[r].indegree += 1\n",
    "                    total += 1\n",
    "                    break\n",
    "            else:\n",
    "                if len(pair[0]) > len(pair[1]):\n",
    "                    return \"\"\n",
    "        q = deque([obj for obj in graph.values() if obj.indegree == 0])\n",
    "        ret = \"\"\n",
    "        removed = 0\n",
    "        while q:\n",
    "            obj = q.popleft()\n",
    "            ret += obj.val\n",
    "            for n in obj.out_nodes:\n",
    "                n.indegree -= 1\n",
    "                removed += 1\n",
    "                if not n.indegree:\n",
    "                    q.append(n)\n",
    "        # total == removed is to if there is any cycle in which case we return \"\"\n",
    "        return ret if total == removed else \"\"\n",
    "\n",
    "Solution().alienOrder([\"z\",\"x\",\"a\",\"zb\",\"zx\"])"
   ]
  },
  {
   "cell_type": "code",
   "execution_count": null,
   "metadata": {},
   "outputs": [],
   "source": []
  },
  {
   "cell_type": "code",
   "execution_count": 2,
   "metadata": {},
   "outputs": [
    {
     "data": {
      "text/plain": [
       "'cabz'"
      ]
     },
     "execution_count": 2,
     "metadata": {},
     "output_type": "execute_result"
    }
   ],
   "source": [
    "from collections import deque\n",
    "\n",
    "class Solution(object):\n",
    "    def alienOrder(self, words):\n",
    "        chars = set(c for w in words for c in w)\n",
    "        graph, indeg = {c:[] for c in chars}, {c:0 for c in chars}\n",
    "        for pair in zip(words, words[1:]):\n",
    "            for c1, c2 in zip(*pair):\n",
    "                if c1 != c2:\n",
    "                    graph[c1] += c2,\n",
    "                    indeg[c2] += 1\n",
    "                    break\n",
    "            else:\n",
    "                if len(c1[0]) > len(c2[1]):\n",
    "                    return \"\"\n",
    "        queue = deque([char for char in indeg if not indeg[char]])\n",
    "        ret = \"\"\n",
    "        while queue:\n",
    "            char = queue.popleft()\n",
    "            ret += char\n",
    "            for n in graph[char]:\n",
    "                indeg[n] -= 1\n",
    "                if not indeg[n]:\n",
    "                    queue.append(n)\n",
    "        return ret * (set(ret) == chars)\n",
    "\n",
    "Solution().alienOrder([\"ac\",\"ab\",\"zc\",\"zb\"])"
   ]
  },
  {
   "cell_type": "code",
   "execution_count": null,
   "metadata": {},
   "outputs": [],
   "source": []
  }
 ],
 "metadata": {
  "kernelspec": {
   "display_name": "Python 3",
   "language": "python",
   "name": "python3"
  },
  "language_info": {
   "codemirror_mode": {
    "name": "ipython",
    "version": 3
   },
   "file_extension": ".py",
   "mimetype": "text/x-python",
   "name": "python",
   "nbconvert_exporter": "python",
   "pygments_lexer": "ipython3",
   "version": "3.7.6"
  }
 },
 "nbformat": 4,
 "nbformat_minor": 4
}
