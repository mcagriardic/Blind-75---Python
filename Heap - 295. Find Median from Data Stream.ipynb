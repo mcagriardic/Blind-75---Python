{
 "cells": [
  {
   "cell_type": "code",
   "execution_count": null,
   "metadata": {},
   "outputs": [],
   "source": []
  },
  {
   "cell_type": "markdown",
   "metadata": {},
   "source": [
    "## Two Heaps - Messy"
   ]
  },
  {
   "cell_type": "code",
   "execution_count": null,
   "metadata": {},
   "outputs": [],
   "source": [
    "import heapq\n",
    "\n",
    "class MedianFinder:\n",
    "    def __init__(self):\n",
    "        self.heaps = [], []\n",
    "\n",
    "    def addNum(self, num):\n",
    "        max_heap, min_heap = self.heaps\n",
    "        if max_heap and max_heap[0] > -num:\n",
    "            heapq.heappush(min_heap, num)\n",
    "            if len(min_heap) > len(max_heap):\n",
    "                heapq.heappush(max_heap, -heapq.heappop(min_heap))\n",
    "        else:\n",
    "            heapq.heappush(max_heap, -num)\n",
    "            if len(max_heap) - len(min_heap) > 1:\n",
    "                heapq.heappush(min_heap, -heapq.heappop(max_heap))\n",
    "\n",
    "    def findMedian(self):\n",
    "        max_heap, min_heap = self.heaps\n",
    "        if len(max_heap) > len(min_heap):\n",
    "            return float(-max_heap[0])\n",
    "        else:\n",
    "            return (-max_heap[0] + min_heap[0]) / 2"
   ]
  },
  {
   "cell_type": "markdown",
   "metadata": {},
   "source": [
    "## Two Heaps - Tidy"
   ]
  },
  {
   "cell_type": "code",
   "execution_count": null,
   "metadata": {},
   "outputs": [],
   "source": [
    "import heapq\n",
    "\n",
    "class MedianFinder:\n",
    "    def __init__(self):\n",
    "        self.heaps = [], []\n",
    "\n",
    "    def addNum(self, num):\n",
    "        max_heap, min_heap = self.heaps\n",
    "        if len(max_heap) == len(min_heap):\n",
    "            heapq.heappush(max_heap, -heappushpop(min_heap, -num))\n",
    "        else:\n",
    "            heapq.heappush(min_heap, -heappushpop(max_heap, num))\n",
    "\n",
    "    def findMedian(self):\n",
    "        max_heap, min_heap = self.heaps\n",
    "        if len(max_heap) > len(min_heap):\n",
    "            return float(-max_heap[0])\n",
    "        else:\n",
    "            return (-max_heap[0] + min_heap[0]) / 2"
   ]
  }
 ],
 "metadata": {
  "kernelspec": {
   "display_name": "Python 3",
   "language": "python",
   "name": "python3"
  },
  "language_info": {
   "codemirror_mode": {
    "name": "ipython",
    "version": 3
   },
   "file_extension": ".py",
   "mimetype": "text/x-python",
   "name": "python",
   "nbconvert_exporter": "python",
   "pygments_lexer": "ipython3",
   "version": "3.7.6"
  }
 },
 "nbformat": 4,
 "nbformat_minor": 4
}
