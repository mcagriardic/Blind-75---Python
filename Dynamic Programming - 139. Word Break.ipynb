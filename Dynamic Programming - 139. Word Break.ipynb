{
 "cells": [
  {
   "cell_type": "code",
   "execution_count": null,
   "metadata": {},
   "outputs": [],
   "source": []
  },
  {
   "cell_type": "markdown",
   "metadata": {},
   "source": [
    "## Top Down - Memoization"
   ]
  },
  {
   "cell_type": "code",
   "execution_count": 1,
   "metadata": {},
   "outputs": [],
   "source": [
    "class Solution(object):\n",
    "    def wordBreak(self, s, wordDict):\n",
    "        wordDict = set(wordDict)\n",
    "        cache = {}\n",
    "        def backtrack(st=0):\n",
    "            if st == len(s):\n",
    "                return True\n",
    "            if st in cache:\n",
    "                return cache[st]\n",
    "            acc = \"\"\n",
    "            for i in range(st, len(s)):\n",
    "                acc += s[i]\n",
    "                if acc in wordDict:\n",
    "                    cache[st] = backtrack(i+1)\n",
    "                    if cache[st]:\n",
    "                        return True\n",
    "            return cache.get(st, False)\n",
    "        return backtrack()"
   ]
  },
  {
   "cell_type": "markdown",
   "metadata": {},
   "source": [
    "## BFS"
   ]
  },
  {
   "cell_type": "code",
   "execution_count": null,
   "metadata": {},
   "outputs": [],
   "source": [
    "class Solution(object):\n",
    "    def wordBreak(self, s, wordDict):\n",
    "        wordDict = set(wordDict)\n",
    "        q = deque([0])\n",
    "        visited = set()\n",
    "        while q:\n",
    "            start = q.popleft()\n",
    "            if start in visited:\n",
    "                continue\n",
    "            if start == len(s):\n",
    "                return True\n",
    "            for end in range(start+1, len(s)+1):\n",
    "                if s[start:end] in wordDict:\n",
    "                    q.append(end)\n",
    "                    visited.add(start)\n",
    "        return False"
   ]
  },
  {
   "cell_type": "code",
   "execution_count": null,
   "metadata": {},
   "outputs": [],
   "source": []
  }
 ],
 "metadata": {
  "kernelspec": {
   "display_name": "Python 3",
   "language": "python",
   "name": "python3"
  },
  "language_info": {
   "codemirror_mode": {
    "name": "ipython",
    "version": 3
   },
   "file_extension": ".py",
   "mimetype": "text/x-python",
   "name": "python",
   "nbconvert_exporter": "python",
   "pygments_lexer": "ipython3",
   "version": "3.7.6"
  }
 },
 "nbformat": 4,
 "nbformat_minor": 4
}
