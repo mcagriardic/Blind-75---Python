{
 "cells": [
  {
   "cell_type": "code",
   "execution_count": null,
   "metadata": {},
   "outputs": [],
   "source": []
  },
  {
   "cell_type": "markdown",
   "metadata": {},
   "source": [
    "## Solution - Greedy\n",
    "\n",
    "If the first house is robbed then we cannot robe the last house. If the last house is robbed then we cannot rob the first house."
   ]
  },
  {
   "cell_type": "code",
   "execution_count": null,
   "metadata": {},
   "outputs": [],
   "source": [
    "class Solution(object):\n",
    "    def rob(self, nums):\n",
    "        def _rob(nums):\n",
    "            prev = 0\n",
    "            prev_prev = 0\n",
    "            for i in range(len(nums)):\n",
    "                cur = max(prev, prev_prev + nums[i])\n",
    "                prev_prev = max(prev, prev_prev)\n",
    "                prev = cur\n",
    "            return cur\n",
    "        if len(nums) == 1:\n",
    "            return nums[0]\n",
    "        if len(nums) == 2:\n",
    "            return max(nums)\n",
    "        return max(_rob(nums[1:]), _rob(nums[:-1]))"
   ]
  },
  {
   "cell_type": "code",
   "execution_count": null,
   "metadata": {},
   "outputs": [],
   "source": []
  }
 ],
 "metadata": {
  "kernelspec": {
   "display_name": "Python 3",
   "language": "python",
   "name": "python3"
  },
  "language_info": {
   "codemirror_mode": {
    "name": "ipython",
    "version": 3
   },
   "file_extension": ".py",
   "mimetype": "text/x-python",
   "name": "python",
   "nbconvert_exporter": "python",
   "pygments_lexer": "ipython3",
   "version": "3.7.6"
  }
 },
 "nbformat": 4,
 "nbformat_minor": 4
}
