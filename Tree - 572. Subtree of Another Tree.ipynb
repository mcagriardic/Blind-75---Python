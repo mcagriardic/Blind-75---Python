{
 "cells": [
  {
   "cell_type": "code",
   "execution_count": null,
   "metadata": {},
   "outputs": [],
   "source": []
  },
  {
   "cell_type": "code",
   "execution_count": null,
   "metadata": {},
   "outputs": [],
   "source": [
    "class Solution:\n",
    "    def isSubtree(self, root, subRoot):\n",
    "        def dfs(root, subRoot):\n",
    "            if not root and not subRoot:\n",
    "                return True\n",
    "            if (root and not subRoot) or (not root and subRoot):\n",
    "                return False\n",
    "            if root.val != subRoot.val:\n",
    "                return False\n",
    "            return dfs(root.left, subRoot.left) and dfs(root.right, subRoot.right)\n",
    "        q = deque([root])\n",
    "        while q:\n",
    "            root = q.popleft()\n",
    "            if root.val == subRoot.val:\n",
    "                if dfs(root, subRoot):\n",
    "                    return True\n",
    "            for child in [root.left, root.right]:\n",
    "                if child:\n",
    "                    q.append(child)\n",
    "        return False"
   ]
  }
 ],
 "metadata": {
  "kernelspec": {
   "display_name": "Python 3",
   "language": "python",
   "name": "python3"
  },
  "language_info": {
   "codemirror_mode": {
    "name": "ipython",
    "version": 3
   },
   "file_extension": ".py",
   "mimetype": "text/x-python",
   "name": "python",
   "nbconvert_exporter": "python",
   "pygments_lexer": "ipython3",
   "version": "3.7.6"
  }
 },
 "nbformat": 4,
 "nbformat_minor": 4
}
