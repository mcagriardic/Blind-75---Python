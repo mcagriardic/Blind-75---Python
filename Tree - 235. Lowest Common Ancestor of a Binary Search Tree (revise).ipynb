{
 "cells": [
  {
   "cell_type": "code",
   "execution_count": null,
   "metadata": {},
   "outputs": [],
   "source": []
  },
  {
   "cell_type": "code",
   "execution_count": null,
   "metadata": {},
   "outputs": [],
   "source": [
    "class Solution:\n",
    "    def lowestCommonAncestor(self, root, p, q):\n",
    "        def search(root, p, path=OrderedDict()):\n",
    "            if not root:\n",
    "                return\n",
    "            if root.val > p.val:\n",
    "                path = search(root.left, p, path | {root.val: root})\n",
    "            elif root.val < p.val:\n",
    "                path = search(root.right, p, path | {root.val: root})\n",
    "            elif root.val == p.val:\n",
    "                return path | {root.val: root}\n",
    "            return path\n",
    "        p_path = search(root, p)\n",
    "        q_path = search(root, q)\n",
    "        if len(q_path) < len(p_path):\n",
    "            iterate = q_path\n",
    "            look_up = p_path\n",
    "        else:\n",
    "            iterate = p_path\n",
    "            look_up = q_path\n",
    "        for node_val, node in reversed(iterate.items()):\n",
    "            if node_val in look_up:\n",
    "                return node"
   ]
  }
 ],
 "metadata": {
  "kernelspec": {
   "display_name": "Python 3",
   "language": "python",
   "name": "python3"
  },
  "language_info": {
   "codemirror_mode": {
    "name": "ipython",
    "version": 3
   },
   "file_extension": ".py",
   "mimetype": "text/x-python",
   "name": "python",
   "nbconvert_exporter": "python",
   "pygments_lexer": "ipython3",
   "version": "3.7.6"
  }
 },
 "nbformat": 4,
 "nbformat_minor": 4
}
