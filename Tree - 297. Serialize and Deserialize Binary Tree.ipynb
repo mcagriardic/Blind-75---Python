{
 "cells": [
  {
   "cell_type": "code",
   "execution_count": null,
   "metadata": {},
   "outputs": [],
   "source": []
  },
  {
   "cell_type": "markdown",
   "metadata": {},
   "source": [
    "## If necessary binary encoding of any number"
   ]
  },
  {
   "cell_type": "code",
   "execution_count": 1,
   "metadata": {},
   "outputs": [],
   "source": [
    "def convert_to_base_2(num):\n",
    "    tmp = base = 2\n",
    "    power = 0\n",
    "    while tmp <= num:\n",
    "        tmp *= base\n",
    "        power += 1\n",
    "    pick = \"01\"\n",
    "    ans = \"\"\n",
    "    while power >= 0:\n",
    "        digit, num = divmod(num, base**power)\n",
    "        ans += pick[digit]\n",
    "        power -= 1\n",
    "    return ans"
   ]
  },
  {
   "cell_type": "markdown",
   "metadata": {},
   "source": [
    "## Define a sample Tree"
   ]
  },
  {
   "cell_type": "code",
   "execution_count": 2,
   "metadata": {},
   "outputs": [],
   "source": [
    "class TreeNode:\n",
    "    def __init__(self, val, left=None, right=None):\n",
    "        self.val = val\n",
    "        self.left = left\n",
    "        self.right = right\n",
    "    \n",
    "def traverse(node):\n",
    "    if not node:\n",
    "        return\n",
    "    traverse(node.left)\n",
    "    print(node.val, end=\" \")\n",
    "    traverse(node.right)\n",
    "        \n",
    "#             4\n",
    "#        /         \\\n",
    "#       /           \\\n",
    "#      2             6\n",
    "#     / \\           /\n",
    "#    /   \\         /\n",
    "#   1     3       5\n",
    "\n",
    "\n",
    "one = TreeNode(1)\n",
    "two = TreeNode(2)\n",
    "three = TreeNode(3)\n",
    "four = TreeNode(4)\n",
    "five = TreeNode(5)\n",
    "six = TreeNode(6)\n",
    "\n",
    "four.left = two\n",
    "four.right = six\n",
    "two.left = one\n",
    "two.right = three\n",
    "six.left = five"
   ]
  },
  {
   "cell_type": "markdown",
   "metadata": {},
   "source": [
    "## Solution (With BFS)"
   ]
  },
  {
   "cell_type": "code",
   "execution_count": null,
   "metadata": {},
   "outputs": [],
   "source": [
    "from collections import deque\n",
    "\n",
    "class Codec:\n",
    "    def serialize(self, root):\n",
    "        if not root:\n",
    "            return None\n",
    "        q = deque([root])\n",
    "        serialised = [root.val]\n",
    "        while q:\n",
    "            root = q.popleft()\n",
    "            if root == \"null\":\n",
    "                continue\n",
    "            for child in [root.left, root.right]:\n",
    "                if child:\n",
    "                    q.append(child)\n",
    "                    serialised.append(child.val)  # got the position of these serialised\n",
    "                    # wrong in the first time\n",
    "                else:\n",
    "                    q.append(\"null\")\n",
    "                    serialised.append(\"null\")\n",
    "        return serialised\n",
    "\n",
    "    def deserialize(self, serialised):\n",
    "        if not serialised:\n",
    "            return None\n",
    "        n = len(serialised)\n",
    "        start = cur = TreeNode(serialised[0])\n",
    "        q = deque([[cur, 0]])\n",
    "        while q:\n",
    "            cur, idx = q.popleft()\n",
    "            left_idx = idx*2 + 1\n",
    "            right_idx = idx*2 + 2\n",
    "            if left_idx < n:\n",
    "                if serialised[left_idx] == \"null\":\n",
    "                    cur.left = None\n",
    "                else:\n",
    "                    left_node = TreeNode(serialised[left_idx])\n",
    "                    cur.left = left_node\n",
    "                    q.append([left_node, left_idx])\n",
    "            if right_idx < n:\n",
    "                if serialised[right_idx] == \"null\":\n",
    "                    cur.right = None\n",
    "                else:\n",
    "                    right_node = TreeNode(serialised[right_idx])\n",
    "                    cur.right = right_node\n",
    "                    q.append([right_node, right_idx])\n",
    "        return start\n",
    "            \n",
    "\n",
    "# Your Codec object will be instantiated and called as such:\n",
    "ser = Codec()\n",
    "deser = Codec()\n",
    "print(ser.serialize(four))\n",
    "traverse(deser.deserialize(ser.serialize(four)))"
   ]
  },
  {
   "cell_type": "code",
   "execution_count": 3,
   "metadata": {},
   "outputs": [
    {
     "name": "stdout",
     "output_type": "stream",
     "text": [
      "Serialised: 4,2,6,1,3,5,null,null,null,null,null,null,null\n",
      "\n",
      "Traversal (inorder):\n",
      "1 2 3 4 5 6 "
     ]
    }
   ],
   "source": [
    "from collections import deque\n",
    "\n",
    "class Codec:\n",
    "    def serialize(self, root):\n",
    "        if not root:\n",
    "            return \"\"\n",
    "        q = deque([root])\n",
    "        serialised = [str(root.val)]\n",
    "        while q:\n",
    "            root = q.popleft()\n",
    "            if root == \"null\":\n",
    "                continue\n",
    "            for child in [root.left, root.right]:\n",
    "                if child:\n",
    "                    q.append(child)\n",
    "                    serialised.append(\",\" + str(child.val))\n",
    "                else:\n",
    "                    q.append(\"null\")\n",
    "                    serialised.append(\",null\")\n",
    "        return \"\".join(serialised)\n",
    "\n",
    "    def deserialize(self, serialised):\n",
    "        if not serialised:\n",
    "            return None\n",
    "        serialised = serialised.split(\",\")\n",
    "        n = len(serialised)\n",
    "        start = cur = TreeNode(serialised[0])\n",
    "        q = deque([[cur, 0]])\n",
    "        while q:\n",
    "            cur, idx = q.popleft()\n",
    "            left_idx = idx*2 + 1\n",
    "            right_idx = idx*2 + 2\n",
    "            if left_idx < n:\n",
    "                if serialised[left_idx] == \"null\":\n",
    "                    cur.left = None\n",
    "                else:\n",
    "                    left_node = TreeNode(int(serialised[left_idx]))\n",
    "                    cur.left = left_node\n",
    "                    q.append([left_node, left_idx])\n",
    "            if right_idx < n:\n",
    "                if serialised[right_idx] == \"null\":\n",
    "                    cur.right = None\n",
    "                else:\n",
    "                    right_node = TreeNode(int(serialised[right_idx]))\n",
    "                    cur.right = right_node\n",
    "                    q.append([right_node, right_idx])\n",
    "        return start\n",
    "    \n",
    "ser = Codec()\n",
    "deser = Codec()\n",
    "print(\"Serialised: %s\\n\" %ser.serialize(four))\n",
    "print(\"Traversal (inorder):\")\n",
    "traverse(deser.deserialize(ser.serialize(four)))"
   ]
  },
  {
   "cell_type": "code",
   "execution_count": null,
   "metadata": {},
   "outputs": [],
   "source": []
  },
  {
   "cell_type": "code",
   "execution_count": null,
   "metadata": {},
   "outputs": [],
   "source": []
  }
 ],
 "metadata": {
  "kernelspec": {
   "display_name": "Python 3",
   "language": "python",
   "name": "python3"
  },
  "language_info": {
   "codemirror_mode": {
    "name": "ipython",
    "version": 3
   },
   "file_extension": ".py",
   "mimetype": "text/x-python",
   "name": "python",
   "nbconvert_exporter": "python",
   "pygments_lexer": "ipython3",
   "version": "3.7.6"
  }
 },
 "nbformat": 4,
 "nbformat_minor": 4
}
