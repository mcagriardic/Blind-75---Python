{
 "cells": [
  {
   "cell_type": "code",
   "execution_count": null,
   "metadata": {},
   "outputs": [],
   "source": []
  },
  {
   "cell_type": "markdown",
   "metadata": {},
   "source": [
    "## Cancer question"
   ]
  },
  {
   "cell_type": "code",
   "execution_count": 1,
   "metadata": {},
   "outputs": [],
   "source": [
    "class Solution:\n",
    "    def search(self, nums, target):\n",
    "        def find_rotation_idx(nums):\n",
    "            if nums[0] < nums[-1]:\n",
    "                return 0\n",
    "            left = 0\n",
    "            right = len(nums) - 1\n",
    "            while left <= right:\n",
    "                mid = (left + right) // 2\n",
    "                if nums[mid] > nums[mid + 1]:\n",
    "                    return mid + 1\n",
    "                else:\n",
    "                    if nums[mid] < nums[left]:\n",
    "                        right = mid - 1\n",
    "                    else:\n",
    "                        left = mid + 1\n",
    "        \n",
    "        def search(nums, left, right, target):\n",
    "            while left <= right:\n",
    "                mid = (left + right) // 2\n",
    "                if nums[mid] == target:\n",
    "                    return mid\n",
    "                if nums[mid] > target:\n",
    "                    right = mid - 1\n",
    "                else:\n",
    "                    left = mid + 1\n",
    "            return -1\n",
    "        \n",
    "        if len(nums) == 1:\n",
    "            return 0 if nums[0] == target else -1\n",
    "        \n",
    "        rotation_idx = find_rotation_idx(nums)\n",
    "        if nums[rotation_idx] == target:\n",
    "            return rotation_idx\n",
    "        is_on_left = target > nums[-1]\n",
    "        if is_on_left:\n",
    "            right = rotation_idx - 1\n",
    "            left = 0\n",
    "        else:\n",
    "            left = rotation_idx\n",
    "            right = len(nums) - 1\n",
    "        return search(nums, left, right, target)"
   ]
  },
  {
   "cell_type": "code",
   "execution_count": null,
   "metadata": {},
   "outputs": [],
   "source": []
  }
 ],
 "metadata": {
  "kernelspec": {
   "display_name": "Python 3",
   "language": "python",
   "name": "python3"
  },
  "language_info": {
   "codemirror_mode": {
    "name": "ipython",
    "version": 3
   },
   "file_extension": ".py",
   "mimetype": "text/x-python",
   "name": "python",
   "nbconvert_exporter": "python",
   "pygments_lexer": "ipython3",
   "version": "3.7.6"
  }
 },
 "nbformat": 4,
 "nbformat_minor": 4
}
