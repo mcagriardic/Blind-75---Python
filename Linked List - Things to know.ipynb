{
 "cells": [
  {
   "cell_type": "code",
   "execution_count": null,
   "metadata": {},
   "outputs": [],
   "source": [
    "# In place reversel of a linked list with 3 pointers\n",
    "# Detect a cycle in a linked list\n",
    "# using 'dummy' head node to circumvent the edge cases # 21. Merge Two Sorted Lists\n",
    "# 2 pointer approaches:\n",
    "    # fast and slow\n",
    "        # for cycle detection and\n",
    "        # find the midpoint of a linkedlist\n",
    "    # keeping 'n' nodes apart:\n",
    "        # cur = end = head\n",
    "        # for _ in range(n):\n",
    "        #    end = end.next\n",
    "    # pair 2 linked lists by maintaning 2 variables to their currents\n",
    "        # p1 = l1.head\n",
    "        # p2 = l2.head"
   ]
  },
  {
   "cell_type": "code",
   "execution_count": null,
   "metadata": {},
   "outputs": [],
   "source": []
  },
  {
   "cell_type": "code",
   "execution_count": null,
   "metadata": {},
   "outputs": [],
   "source": []
  }
 ],
 "metadata": {
  "kernelspec": {
   "display_name": "Python 3",
   "language": "python",
   "name": "python3"
  },
  "language_info": {
   "codemirror_mode": {
    "name": "ipython",
    "version": 3
   },
   "file_extension": ".py",
   "mimetype": "text/x-python",
   "name": "python",
   "nbconvert_exporter": "python",
   "pygments_lexer": "ipython3",
   "version": "3.7.6"
  }
 },
 "nbformat": 4,
 "nbformat_minor": 4
}
