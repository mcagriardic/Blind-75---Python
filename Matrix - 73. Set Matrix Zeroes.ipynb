{
 "cells": [
  {
   "cell_type": "code",
   "execution_count": null,
   "metadata": {},
   "outputs": [],
   "source": []
  },
  {
   "cell_type": "markdown",
   "metadata": {},
   "source": [
    "## Brute Force 1"
   ]
  },
  {
   "cell_type": "code",
   "execution_count": 1,
   "metadata": {},
   "outputs": [],
   "source": [
    "class Solution:\n",
    "    def setZeroes(self, matrix) -> None:\n",
    "        rows, cols = set(), set()\n",
    "        for ri in range(len(matrix)):\n",
    "            for ci in range(len(matrix[0])):\n",
    "                if matrix[ri][ci] == 0:\n",
    "                    rows.add(ri)\n",
    "                    cols.add(ci)\n",
    "        for ri in range(len(matrix)):\n",
    "            for ci in range(len(matrix[0])):\n",
    "                if ri in rows or ci in cols:\n",
    "                    matrix[ri][ci] = 0\n",
    "        for row in matrix:\n",
    "            print(row)"
   ]
  },
  {
   "cell_type": "code",
   "execution_count": 2,
   "metadata": {},
   "outputs": [
    {
     "name": "stdout",
     "output_type": "stream",
     "text": [
      "[1, 0, 1]\n",
      "[0, 0, 0]\n",
      "[1, 0, 1]\n"
     ]
    }
   ],
   "source": [
    "Solution().setZeroes([[1,1,1],[1,0,1],[1,1,1]])"
   ]
  },
  {
   "cell_type": "markdown",
   "metadata": {},
   "source": [
    "## Brute Force 2"
   ]
  },
  {
   "cell_type": "code",
   "execution_count": 3,
   "metadata": {},
   "outputs": [],
   "source": [
    "class Solution:\n",
    "    def setZeroes(x, self) -> None:\n",
    "        rows = set()\n",
    "        cols = set()\n",
    "        for ri in range(len(self)):\n",
    "            for ci in range(len(self[0])):\n",
    "                if ri in rows or ci in cols:\n",
    "                    continue\n",
    "                if self[ri][ci] == 0:\n",
    "                    rows.add(ri)\n",
    "                    cols.add(ci)\n",
    "        ret = []\n",
    "        for ri in range(len(self)):\n",
    "            tmp = [0] * len(self[0])\n",
    "            if ri in rows:\n",
    "                ret.append(tmp)\n",
    "                continue\n",
    "            for ci in range(len(self[0])):\n",
    "                if ci in cols:\n",
    "                    continue\n",
    "                tmp[ci] = 1\n",
    "            ret.append(tmp)\n",
    "        for row in ret:\n",
    "            print(row)"
   ]
  },
  {
   "cell_type": "code",
   "execution_count": 4,
   "metadata": {},
   "outputs": [
    {
     "name": "stdout",
     "output_type": "stream",
     "text": [
      "[1, 0, 1]\n",
      "[0, 0, 0]\n",
      "[1, 0, 1]\n"
     ]
    }
   ],
   "source": [
    "Solution().setZeroes([[1,1,1],[1,0,1],[1,1,1]])"
   ]
  },
  {
   "cell_type": "markdown",
   "metadata": {},
   "source": [
    "## Memory optimised"
   ]
  },
  {
   "cell_type": "code",
   "execution_count": 5,
   "metadata": {},
   "outputs": [],
   "source": [
    "class Solution:\n",
    "    def setZeroes(self, matrix):\n",
    "        set_to_zero = False\n",
    "        for ri in range(len(matrix)):\n",
    "            if matrix[ri][0] == 0:\n",
    "                set_to_zero = True\n",
    "            for ci in range(1, len(matrix[0])):\n",
    "                if matrix[ri][ci] == 0:\n",
    "                    matrix[0][ci] = 0\n",
    "                    matrix[ri][0] = 0\n",
    "        for ri in range(1, len(matrix)):\n",
    "            for ci in range(1, len(matrix[0])):\n",
    "                if not matrix[0][ci] or not matrix[ri][0]:\n",
    "                    matrix[ri][ci] = 0\n",
    "        if matrix[0][0] == 0:\n",
    "            for ci in range(len(matrix[0])):\n",
    "                matrix[0][ci] = 0\n",
    "        if set_to_zero:\n",
    "            for ri in range(len(matrix)):\n",
    "                matrix[ri][0] = 0\n",
    "        for row in matrix:\n",
    "            print(row)"
   ]
  },
  {
   "cell_type": "code",
   "execution_count": 6,
   "metadata": {},
   "outputs": [
    {
     "name": "stdout",
     "output_type": "stream",
     "text": [
      "[1, 0, 1]\n",
      "[0, 0, 0]\n",
      "[1, 0, 1]\n"
     ]
    }
   ],
   "source": [
    "Solution().setZeroes([[1,1,1],[1,0,1],[1,1,1]])"
   ]
  },
  {
   "cell_type": "code",
   "execution_count": null,
   "metadata": {},
   "outputs": [],
   "source": []
  }
 ],
 "metadata": {
  "kernelspec": {
   "display_name": "Python 3",
   "language": "python",
   "name": "python3"
  },
  "language_info": {
   "codemirror_mode": {
    "name": "ipython",
    "version": 3
   },
   "file_extension": ".py",
   "mimetype": "text/x-python",
   "name": "python",
   "nbconvert_exporter": "python",
   "pygments_lexer": "ipython3",
   "version": "3.7.6"
  }
 },
 "nbformat": 4,
 "nbformat_minor": 4
}
