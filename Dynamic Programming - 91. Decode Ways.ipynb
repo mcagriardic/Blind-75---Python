{
 "cells": [
  {
   "cell_type": "code",
   "execution_count": null,
   "metadata": {},
   "outputs": [],
   "source": []
  },
  {
   "cell_type": "markdown",
   "metadata": {},
   "source": [
    "## Top Down memo with optimisations"
   ]
  },
  {
   "cell_type": "code",
   "execution_count": 1,
   "metadata": {},
   "outputs": [],
   "source": [
    "from collections import defaultdict\n",
    "\n",
    "class Solution:\n",
    "    def __init__(self):\n",
    "        self.mappings = {str(letter-64) for letter in range(65,91)}\n",
    "\n",
    "    def numDecodings(self, s):\n",
    "        cache = defaultdict(int)\n",
    "        def backtrack(st=0):\n",
    "            if st == len(s):\n",
    "                return 1\n",
    "            if s[st] == \"0\":\n",
    "                return 0\n",
    "            if st in cache:\n",
    "                return cache[st]\n",
    "            acc = \"\"\n",
    "            for i in range(st, len(s)):\n",
    "                acc = \"\".join((acc, s[i]))\n",
    "                if acc in self.mappings:\n",
    "                    cache[st] += backtrack(i+1)\n",
    "                else:\n",
    "                    return cache[st]\n",
    "            return cache[st]\n",
    "        return backtrack()"
   ]
  },
  {
   "cell_type": "code",
   "execution_count": 2,
   "metadata": {},
   "outputs": [
    {
     "data": {
      "text/plain": [
       "3"
      ]
     },
     "execution_count": 2,
     "metadata": {},
     "output_type": "execute_result"
    }
   ],
   "source": [
    "s = \"226\"\n",
    "# Output: 3\n",
    "# Explanation: \"226\" could be decoded as \"BZ\" (2 26), \"VF\" (22 6), or \"BBF\" (2 2 6).\n",
    "\n",
    "Solution().numDecodings(s)"
   ]
  },
  {
   "cell_type": "code",
   "execution_count": null,
   "metadata": {},
   "outputs": [],
   "source": []
  },
  {
   "cell_type": "markdown",
   "metadata": {},
   "source": [
    "## Makeshift LRU wrapper solution"
   ]
  },
  {
   "cell_type": "code",
   "execution_count": 3,
   "metadata": {},
   "outputs": [],
   "source": [
    "def memoization(f):\n",
    "    memo = {}\n",
    "    def wrapper(*args):\n",
    "        if args not in memo:\n",
    "            memo[args] = f(*args)\n",
    "        return memo[args]\n",
    "    return wrapper"
   ]
  },
  {
   "cell_type": "markdown",
   "metadata": {},
   "source": [
    "### Slower solution"
   ]
  },
  {
   "cell_type": "code",
   "execution_count": 4,
   "metadata": {},
   "outputs": [],
   "source": [
    "class Solution:\n",
    "    def __init__(self):\n",
    "        self.mappings = {str(letter-64) for letter in range(65,91)}\n",
    "    \n",
    "    def numDecodings(self, s):\n",
    "        @memoization\n",
    "        def backtrack(st=0):\n",
    "            if st == len(s):\n",
    "                return 1\n",
    "            if s[st] == \"0\":\n",
    "                return 0\n",
    "            acc = \"\"\n",
    "            ret = 0\n",
    "            for i in range(st, len(s)):\n",
    "                acc = \"\".join((acc, s[i]))\n",
    "                if acc in self.mappings:\n",
    "                    ret += backtrack(i+1)\n",
    "                # adding below helped speed up the code by a lot.\n",
    "                else:\n",
    "                    return ret\n",
    "                # until here\n",
    "            return ret\n",
    "        return backtrack()"
   ]
  },
  {
   "cell_type": "code",
   "execution_count": 5,
   "metadata": {},
   "outputs": [
    {
     "data": {
      "text/plain": [
       "3"
      ]
     },
     "execution_count": 5,
     "metadata": {},
     "output_type": "execute_result"
    }
   ],
   "source": [
    "s = \"226\"\n",
    "# Output: 3\n",
    "# Explanation: \"226\" could be decoded as \"BZ\" (2 26), \"VF\" (22 6), or \"BBF\" (2 2 6).\n",
    "\n",
    "Solution().numDecodings(s)"
   ]
  },
  {
   "cell_type": "markdown",
   "metadata": {},
   "source": [
    "### Faster solution of makeshift LRU memoization"
   ]
  },
  {
   "cell_type": "code",
   "execution_count": 6,
   "metadata": {},
   "outputs": [],
   "source": [
    "class Solution:   \n",
    "    @memoization\n",
    "    def backtrack(self, s, st):\n",
    "        if st == len(s):\n",
    "            return 1\n",
    "        if s[st] == \"0\":\n",
    "            return 0\n",
    "        if st == len(s) - 1:\n",
    "            return 1\n",
    "        ret = self.backtrack(s, st+1)\n",
    "        if int(s[st:st+2]) <= 26:\n",
    "            ret += self.backtrack(s, st+2)\n",
    "        return ret\n",
    "    \n",
    "    def numDecodings(self, s):\n",
    "        return self.backtrack(s, 0)"
   ]
  },
  {
   "cell_type": "code",
   "execution_count": 7,
   "metadata": {},
   "outputs": [
    {
     "data": {
      "text/plain": [
       "3"
      ]
     },
     "execution_count": 7,
     "metadata": {},
     "output_type": "execute_result"
    }
   ],
   "source": [
    "s = \"226\"\n",
    "# Output: 3\n",
    "# Explanation: \"226\" could be decoded as \"BZ\" (2 26), \"VF\" (22 6), or \"BBF\" (2 2 6).\n",
    "\n",
    "Solution().numDecodings(s)"
   ]
  },
  {
   "cell_type": "code",
   "execution_count": null,
   "metadata": {},
   "outputs": [],
   "source": []
  }
 ],
 "metadata": {
  "kernelspec": {
   "display_name": "Python 3",
   "language": "python",
   "name": "python3"
  },
  "language_info": {
   "codemirror_mode": {
    "name": "ipython",
    "version": 3
   },
   "file_extension": ".py",
   "mimetype": "text/x-python",
   "name": "python",
   "nbconvert_exporter": "python",
   "pygments_lexer": "ipython3",
   "version": "3.7.6"
  }
 },
 "nbformat": 4,
 "nbformat_minor": 4
}
