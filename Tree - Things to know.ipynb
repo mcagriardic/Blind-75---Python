{
 "cells": [
  {
   "cell_type": "code",
   "execution_count": null,
   "metadata": {},
   "outputs": [],
   "source": [
    "# Tree properties\n",
    "    # degenerate\n",
    "    # complete binary tree\n",
    "    # binary tree\n",
    "    # binary search tree\n",
    "    # ternary tree\n",
    "    # b tree\n",
    "    # full binary tree\n",
    "    # time & space complexities of the below (for DFS and BFS)\n",
    "# Recursion\n",
    "    # head recursion\n",
    "    # tail recursion\n",
    "# DFS\n",
    "    # Post Order\n",
    "    # Pre Order\n",
    "    # In order\n",
    "# BFS\n",
    "# Dynamic programming (rarely)\n",
    "# lowest common ancestor\n",
    "# Trie\n",
    "    # pruning"
   ]
  }
 ],
 "metadata": {
  "kernelspec": {
   "display_name": "Python 3",
   "language": "python",
   "name": "python3"
  },
  "language_info": {
   "codemirror_mode": {
    "name": "ipython",
    "version": 3
   },
   "file_extension": ".py",
   "mimetype": "text/x-python",
   "name": "python",
   "nbconvert_exporter": "python",
   "pygments_lexer": "ipython3",
   "version": "3.7.6"
  }
 },
 "nbformat": 4,
 "nbformat_minor": 4
}
