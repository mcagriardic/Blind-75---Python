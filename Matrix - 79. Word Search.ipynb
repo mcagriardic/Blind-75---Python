{
 "cells": [
  {
   "cell_type": "code",
   "execution_count": null,
   "metadata": {},
   "outputs": [],
   "source": []
  },
  {
   "cell_type": "markdown",
   "metadata": {},
   "source": [
    "## TLE solution"
   ]
  },
  {
   "cell_type": "code",
   "execution_count": 1,
   "metadata": {},
   "outputs": [],
   "source": [
    "class Solution:\n",
    "    def exist(self, board, word) -> bool:\n",
    "        def dfs(ri, ci, depth, visited=set()):\n",
    "            if depth == len(word):\n",
    "                print(visited)\n",
    "                return True\n",
    "            if (not 0 <= ri < len(board) or\n",
    "                   not 0 <= ci < len(board[0]) or\n",
    "                   board[ri][ci] != word[depth] or\n",
    "                   (ri, ci) in visited):\n",
    "                return False\n",
    "            return (\n",
    "                dfs(ri-1, ci, depth + 1, visited.union({tuple((ri, ci))})) or\n",
    "                dfs(ri+1, ci, depth + 1, visited.union({tuple((ri, ci))})) or\n",
    "                dfs(ri, ci-1, depth + 1, visited.union({tuple((ri, ci))})) or\n",
    "                dfs(ri, ci+1, depth + 1, visited.union({tuple((ri, ci))}))\n",
    "            )\n",
    "            \n",
    "        for i in range(len(board)):\n",
    "            for j in range(len(board[0])):\n",
    "                if board[i][j] == word[0]:\n",
    "                    if dfs(i, j, 0):\n",
    "                        return True\n",
    "        return False"
   ]
  },
  {
   "cell_type": "code",
   "execution_count": 2,
   "metadata": {},
   "outputs": [
    {
     "data": {
      "text/plain": [
       "False"
      ]
     },
     "execution_count": 2,
     "metadata": {},
     "output_type": "execute_result"
    }
   ],
   "source": [
    "Solution().exist(\n",
    "    [\n",
    "        [\"A\",\"B\",\"C\",\"E\"],\n",
    "        [\"S\",\"F\",\"C\",\"S\"],\n",
    "        [\"A\",\"D\",\"E\",\"E\"]\n",
    "    ],\n",
    "    \"ABCB\"\n",
    ")"
   ]
  },
  {
   "cell_type": "markdown",
   "metadata": {},
   "source": [
    "## Removing 'visited'"
   ]
  },
  {
   "cell_type": "code",
   "execution_count": 3,
   "metadata": {},
   "outputs": [],
   "source": [
    "class Solution:\n",
    "    def exist(self, board, word) -> bool:\n",
    "        def dfs(ri, ci, depth):\n",
    "            if depth == len(word):\n",
    "                return True\n",
    "            if (not 0 <= ri < len(board) or\n",
    "                   not 0 <= ci < len(board[0]) or\n",
    "                   board[ri][ci] != word[depth] or\n",
    "                   board[ri][ci] == \"#\"):\n",
    "                return False\n",
    "            prev = board[ri][ci]\n",
    "            board[ri][ci] = \"#\"\n",
    "            ret = (\n",
    "                dfs(ri-1, ci, depth + 1) or\n",
    "                dfs(ri+1, ci, depth + 1) or\n",
    "                dfs(ri, ci-1, depth + 1) or\n",
    "                dfs(ri, ci+1, depth + 1)\n",
    "            )\n",
    "            board[ri][ci] = prev\n",
    "            return ret\n",
    "        for i in range(len(board)):\n",
    "            for j in range(len(board[0])):\n",
    "                if board[i][j] == word[0]:\n",
    "                    if dfs(i, j, 0):\n",
    "                        return True\n",
    "        return False"
   ]
  },
  {
   "cell_type": "code",
   "execution_count": 4,
   "metadata": {},
   "outputs": [
    {
     "data": {
      "text/plain": [
       "False"
      ]
     },
     "execution_count": 4,
     "metadata": {},
     "output_type": "execute_result"
    }
   ],
   "source": [
    "Solution().exist(\n",
    "    [\n",
    "        [\"A\",\"B\",\"C\",\"E\"],\n",
    "        [\"S\",\"F\",\"C\",\"S\"],\n",
    "        [\"A\",\"D\",\"E\",\"E\"]\n",
    "    ],\n",
    "    \"ABCB\"\n",
    ")"
   ]
  },
  {
   "cell_type": "code",
   "execution_count": null,
   "metadata": {},
   "outputs": [],
   "source": []
  }
 ],
 "metadata": {
  "kernelspec": {
   "display_name": "Python 3",
   "language": "python",
   "name": "python3"
  },
  "language_info": {
   "codemirror_mode": {
    "name": "ipython",
    "version": 3
   },
   "file_extension": ".py",
   "mimetype": "text/x-python",
   "name": "python",
   "nbconvert_exporter": "python",
   "pygments_lexer": "ipython3",
   "version": "3.7.6"
  }
 },
 "nbformat": 4,
 "nbformat_minor": 4
}
