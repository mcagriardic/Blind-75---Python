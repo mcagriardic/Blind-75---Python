{
 "cells": [
  {
   "cell_type": "code",
   "execution_count": null,
   "metadata": {},
   "outputs": [],
   "source": []
  },
  {
   "cell_type": "markdown",
   "metadata": {},
   "source": [
    "## Steps\n",
    "\n",
    "1. get the counts of t\n",
    "2. initialise the left, answer and current_window\n",
    "3. for loop will go over each character and the index of the for loop will be right\n",
    "4. when the characters between left and right has all the characters in the counts_t (cur_window will keep that) (cur window will only hold the letters in counts_t)\n",
    "5. shrinking from the left side starts. Move left while character pointed by left i.) is not in counts_t, or ii.) it is in counts_t and its count is greater than what we require.\n",
    "6. compare the right - left + 1 to ans to update the ans\n",
    "\n",
    "ans will hold the left and the right coordinates as the result wants the string not the length"
   ]
  },
  {
   "cell_type": "code",
   "execution_count": 16,
   "metadata": {},
   "outputs": [
    {
     "data": {
      "text/plain": [
       "'BANC'"
      ]
     },
     "execution_count": 16,
     "metadata": {},
     "output_type": "execute_result"
    }
   ],
   "source": [
    "from collections import Counter\n",
    "\n",
    "class Solution:\n",
    "    def minWindow(self, s, t):\n",
    "        def is_valid(cur_window, counts_t):\n",
    "            if len(cur_window) != len(counts_t):\n",
    "                return False\n",
    "            for key in cur_window:\n",
    "                if counts_t[key] > cur_window[key]:\n",
    "                    return False\n",
    "            return True\n",
    "    \n",
    "        counts_t = Counter(t)\n",
    "        left = 0\n",
    "        ans = [float('-inf'), float('inf')]\n",
    "        cur_window = {}\n",
    "        for right, rchar in enumerate(s):\n",
    "            if rchar in counts_t:\n",
    "                cur_window[rchar] = cur_window.get(rchar, 0) + 1\n",
    "                if is_valid(cur_window, counts_t):\n",
    "                    while left < right:\n",
    "                        lchar = s[left]\n",
    "                        if lchar in cur_window:\n",
    "                            if cur_window[lchar] > counts_t[lchar]:\n",
    "                                cur_window[lchar] -= 1\n",
    "                            else:\n",
    "                                break\n",
    "                        left += 1\n",
    "                    if right-left < ans[1]-ans[0]:\n",
    "                        ans = [left, right]\n",
    "        return s[ans[0]:ans[1]+1]\n",
    "    \n",
    "Solution().minWindow(\"ADOBECODEBANC\", \"ABC\")"
   ]
  },
  {
   "cell_type": "markdown",
   "metadata": {},
   "source": [
    "## Couple of improvements"
   ]
  },
  {
   "cell_type": "code",
   "execution_count": 17,
   "metadata": {},
   "outputs": [],
   "source": [
    "from collections import Counter\n",
    "\n",
    "class Solution:\n",
    "    def minWindow(self, s, t):\n",
    "        def is_valid(cur_window, counts_t):\n",
    "            if len(cur_window) != len(counts_t):\n",
    "                return False\n",
    "            for key in cur_window:\n",
    "                if counts_t[key] > cur_window[key]:\n",
    "                    return False\n",
    "            return True\n",
    "    \n",
    "        counts_t = Counter(t)\n",
    "        required = len(t)\n",
    "        added = left = 0                                              # added\n",
    "        ans = [float('-inf'), float('inf')]\n",
    "        cur_window = {}\n",
    "        for right, rchar in enumerate(s):\n",
    "            if rchar in counts_t:\n",
    "                cur_window[rchar] = cur_window.get(rchar, 0) + 1\n",
    "                if cur_window[rchar] <= counts_t[rchar]:              # added \n",
    "                    added += 1                                        # added \n",
    "                if added == required:                                 # changed\n",
    "                    while left < right:\n",
    "                        lchar = s[left]\n",
    "                        if lchar in cur_window:\n",
    "                            if cur_window[lchar] > counts_t[lchar]:\n",
    "                                cur_window[lchar] -= 1\n",
    "                            else:\n",
    "                                break\n",
    "                        left += 1\n",
    "                    if right-left < ans[1]-ans[0]:\n",
    "                        ans = [left, right]\n",
    "        return \"\" if ans[0] == float('-inf') else s[ans[0]:ans[1]+1]"
   ]
  },
  {
   "cell_type": "code",
   "execution_count": null,
   "metadata": {},
   "outputs": [],
   "source": []
  },
  {
   "cell_type": "code",
   "execution_count": null,
   "metadata": {},
   "outputs": [],
   "source": []
  },
  {
   "cell_type": "code",
   "execution_count": null,
   "metadata": {},
   "outputs": [],
   "source": []
  }
 ],
 "metadata": {
  "kernelspec": {
   "display_name": "Python 3",
   "language": "python",
   "name": "python3"
  },
  "language_info": {
   "codemirror_mode": {
    "name": "ipython",
    "version": 3
   },
   "file_extension": ".py",
   "mimetype": "text/x-python",
   "name": "python",
   "nbconvert_exporter": "python",
   "pygments_lexer": "ipython3",
   "version": "3.7.6"
  }
 },
 "nbformat": 4,
 "nbformat_minor": 4
}
