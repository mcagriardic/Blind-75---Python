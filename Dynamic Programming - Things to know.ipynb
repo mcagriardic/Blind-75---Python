{
 "cells": [
  {
   "cell_type": "code",
   "execution_count": null,
   "metadata": {},
   "outputs": [],
   "source": [
    "# Bottom-up -> Tabulation\n",
    "# Top down -> Memoization\n",
    "    # double scanning maintaining end & start\n",
    "        # for end in range(1, len(nums)):\n",
    "        #     for start in range(end):\n",
    "        #         <sth>\n",
    "    # 1D array\n",
    "    # 2D array\n",
    "        # diagonal looks up\n",
    "            # addition\n",
    "            # taking the min or max\n",
    "# bisect for binary search"
   ]
  }
 ],
 "metadata": {
  "kernelspec": {
   "display_name": "Python 3",
   "language": "python",
   "name": "python3"
  },
  "language_info": {
   "codemirror_mode": {
    "name": "ipython",
    "version": 3
   },
   "file_extension": ".py",
   "mimetype": "text/x-python",
   "name": "python",
   "nbconvert_exporter": "python",
   "pygments_lexer": "ipython3",
   "version": "3.7.6"
  }
 },
 "nbformat": 4,
 "nbformat_minor": 4
}
