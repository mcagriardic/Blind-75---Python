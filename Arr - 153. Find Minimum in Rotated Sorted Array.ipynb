{
 "cells": [
  {
   "cell_type": "code",
   "execution_count": null,
   "metadata": {},
   "outputs": [],
   "source": []
  },
  {
   "cell_type": "markdown",
   "metadata": {},
   "source": [
    "## Bit messsy ifs"
   ]
  },
  {
   "cell_type": "code",
   "execution_count": null,
   "metadata": {},
   "outputs": [],
   "source": [
    "class Solution:\n",
    "    def findMin(self, nums):\n",
    "        def binary_search(nums):\n",
    "            left = 0 \n",
    "            right = len(nums) - 1\n",
    "            while left <= right:\n",
    "                mid = (right + left) // 2\n",
    "                # if there is no left\n",
    "                if mid - 1 < 0 and nums[mid] < nums[mid + 1]:\n",
    "                    return nums[mid]\n",
    "                # if there is no right\n",
    "                if mid + 1 == len(nums) and nums[mid] < nums[mid-1]:\n",
    "                    return nums[mid]\n",
    "                # if both exists\n",
    "                if nums[mid] < nums[mid-1] and nums[mid] < nums[mid + 1]:\n",
    "                    return nums[mid]\n",
    "                if nums[mid] < nums[0]:\n",
    "                    right = mid - 1\n",
    "                else:\n",
    "                    left = mid + 1\n",
    "        if nums[0] < nums[-1]:\n",
    "            return nums[0]\n",
    "        if len(nums) == 1:\n",
    "            return nums[0]\n",
    "        return binary_search(nums)"
   ]
  },
  {
   "cell_type": "markdown",
   "metadata": {},
   "source": [
    "## Better ifs"
   ]
  },
  {
   "cell_type": "code",
   "execution_count": null,
   "metadata": {},
   "outputs": [],
   "source": [
    "class Solution:\n",
    "    def findMin(self, nums):\n",
    "        def binary_search(nums):\n",
    "            left = 0 \n",
    "            right = len(nums) - 1\n",
    "            while left <= right:\n",
    "                mid = (right + left) // 2\n",
    "                if nums[mid] > nums[mid + 1]:\n",
    "                    return nums[mid + 1]\n",
    "                if nums[mid - 1] > nums[mid]:\n",
    "                    return nums[mid]\n",
    "                if nums[mid] < nums[0]:\n",
    "                    right = mid - 1\n",
    "                else:\n",
    "                    left = mid + 1\n",
    "        if nums[0] < nums[-1]:\n",
    "            return nums[0]\n",
    "        if len(nums) == 1:\n",
    "            return nums[0]\n",
    "        return binary_search(nums)"
   ]
  },
  {
   "cell_type": "code",
   "execution_count": null,
   "metadata": {},
   "outputs": [],
   "source": []
  },
  {
   "cell_type": "code",
   "execution_count": null,
   "metadata": {},
   "outputs": [],
   "source": []
  }
 ],
 "metadata": {
  "kernelspec": {
   "display_name": "Python 3",
   "language": "python",
   "name": "python3"
  },
  "language_info": {
   "codemirror_mode": {
    "name": "ipython",
    "version": 3
   },
   "file_extension": ".py",
   "mimetype": "text/x-python",
   "name": "python",
   "nbconvert_exporter": "python",
   "pygments_lexer": "ipython3",
   "version": "3.7.6"
  }
 },
 "nbformat": 4,
 "nbformat_minor": 4
}
