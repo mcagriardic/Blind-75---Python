{
 "cells": [
  {
   "cell_type": "code",
   "execution_count": null,
   "metadata": {},
   "outputs": [],
   "source": []
  },
  {
   "cell_type": "markdown",
   "metadata": {},
   "source": [
    "## Brute Force"
   ]
  },
  {
   "cell_type": "code",
   "execution_count": 1,
   "metadata": {},
   "outputs": [
    {
     "data": {
      "text/plain": [
       "28"
      ]
     },
     "execution_count": 1,
     "metadata": {},
     "output_type": "execute_result"
    }
   ],
   "source": [
    "class Solution(object):\n",
    "    def uniquePaths(self, m, n):\n",
    "        def travel(ri, ci):\n",
    "            if (not 0 <= ri < m or\n",
    "                   not 0 <= ci < n):\n",
    "                return 0\n",
    "            if ri == m-1 and ci == n-1:\n",
    "                return 1\n",
    "            return travel(ri+1, ci) + travel(ri, ci+1)\n",
    "        return travel(0, 0)\n",
    "\n",
    "Solution().uniquePaths(3, 7)"
   ]
  },
  {
   "cell_type": "markdown",
   "metadata": {},
   "source": [
    "## Top Down -> Memoization"
   ]
  },
  {
   "cell_type": "code",
   "execution_count": 2,
   "metadata": {},
   "outputs": [
    {
     "data": {
      "text/plain": [
       "28"
      ]
     },
     "execution_count": 2,
     "metadata": {},
     "output_type": "execute_result"
    }
   ],
   "source": [
    "class Solution(object):\n",
    "    def uniquePaths(self, m, n):\n",
    "        cache = {(m-1, n-1): 1}\n",
    "        def travel(ri, ci):\n",
    "            if (not 0 <= ri < m or\n",
    "                   not 0 <= ci < n):\n",
    "                return 0\n",
    "            if (ri, ci) in cache:\n",
    "                return cache[(ri, ci)]\n",
    "            cache[(ri, ci)] = travel(ri+1, ci) + travel(ri, ci+1)\n",
    "            return cache[(ri, ci)]\n",
    "        return travel(0, 0)\n",
    "    \n",
    "Solution().uniquePaths(3, 7)"
   ]
  },
  {
   "cell_type": "markdown",
   "metadata": {},
   "source": [
    "## Bottom-up -> Tabulation"
   ]
  },
  {
   "cell_type": "code",
   "execution_count": 5,
   "metadata": {},
   "outputs": [],
   "source": [
    "class Solution(object):\n",
    "    def uniquePaths(self, m, n):\n",
    "        table = [[0] * n for _ in range(m)]\n",
    "        table[0][0] = 1\n",
    "        for ri in range(m):\n",
    "            for ci in range(n):\n",
    "                top = table[ri-1][ci] if ri - 1 >= 0 else 0\n",
    "                left = table[ri][ci-1] if ci - 1 >= 0 else 0\n",
    "                table[ri][ci] += top + left\n",
    "        return table[-1][-1]"
   ]
  },
  {
   "cell_type": "code",
   "execution_count": null,
   "metadata": {},
   "outputs": [],
   "source": []
  }
 ],
 "metadata": {
  "kernelspec": {
   "display_name": "Python 3",
   "language": "python",
   "name": "python3"
  },
  "language_info": {
   "codemirror_mode": {
    "name": "ipython",
    "version": 3
   },
   "file_extension": ".py",
   "mimetype": "text/x-python",
   "name": "python",
   "nbconvert_exporter": "python",
   "pygments_lexer": "ipython3",
   "version": "3.7.6"
  }
 },
 "nbformat": 4,
 "nbformat_minor": 4
}
