{
 "cells": [
  {
   "cell_type": "code",
   "execution_count": null,
   "metadata": {},
   "outputs": [],
   "source": []
  },
  {
   "cell_type": "code",
   "execution_count": 1,
   "metadata": {},
   "outputs": [
    {
     "data": {
      "text/plain": [
       "{'b': {'a': {'r': {'$': 'bar',\n",
       "    'a': {'k': {'a': {'l': {'a': {'r': {'$': 'barakalar'}}}}}}}}}}"
      ]
     },
     "execution_count": 1,
     "metadata": {},
     "output_type": "execute_result"
    }
   ],
   "source": [
    "class Trie:\n",
    "    WORD_END = \"$\"\n",
    "    def __init__(self):\n",
    "        self.trie = {}\n",
    "\n",
    "    def insert(self, word):\n",
    "        cur = self.trie\n",
    "        for char in word:\n",
    "            if char not in cur:\n",
    "                cur[char] = {}\n",
    "            cur = cur[char]\n",
    "        cur[Trie.WORD_END] = word\n",
    "\n",
    "    def search(self, word):\n",
    "        cur = self.trie\n",
    "        for char in word:\n",
    "            if char not in cur:\n",
    "                return False\n",
    "            cur = cur[char]\n",
    "        if \"$\" in cur and cur[\"$\"] == word:\n",
    "            return True\n",
    "        return False\n",
    "\n",
    "    def startsWith(self, prefix):\n",
    "        cur = self.trie\n",
    "        for char in prefix:\n",
    "            if char not in cur:\n",
    "                return False\n",
    "            cur = cur[char]\n",
    "        return True\n",
    "\n",
    "    def delete(self, word):\n",
    "        def _delete(word, cur_trie, i=0):\n",
    "            if i == len(word):\n",
    "                if Trie.WORD_END not in cur_trie:\n",
    "                    raise ValueError(\"'%s' is not registered in the trie...\" %word)\n",
    "                cur_trie.pop(Trie.WORD_END)\n",
    "                if len(cur_trie) > 0:\n",
    "                    return False\n",
    "                return True\n",
    "            if word[i] not in cur_trie:\n",
    "                raise ValueError(\"'%s' is not registered in the trie...\" %word)\n",
    "            cont = _delete(word, cur_trie[word[i]], i+1)\n",
    "            if cont:\n",
    "                cur_trie.pop(word[i])\n",
    "                if Trie.WORD_END in cur_trie:\n",
    "                    return False\n",
    "                return True\n",
    "            return False\n",
    "        _delete(word, self.trie)\n",
    "\n",
    "t = Trie()\n",
    "t.insert(\"bar\")\n",
    "t.insert(\"baraka\")\n",
    "t.insert(\"barakalar\")\n",
    "\n",
    "# t.delete(\"barak\") # raises error as 'barak' is not a valid WORD_END although it is a valid path.\n",
    "# t.delete(\"bareka\") # raises error as 'e' does not exist in the path.\n",
    "t.delete(\"baraka\") # deletes the WORD_END of 'baraka' without deleting any letter as there is 'barakalar' afterwards.\n",
    "# t.delete(\"barakalar\") # deletes until the previous word (until the first Trie.WORD_END; \"$\" - by going backwards with recursion) in the same path (until 'baraka')\n",
    "\n",
    "t.trie"
   ]
  },
  {
   "cell_type": "code",
   "execution_count": null,
   "metadata": {},
   "outputs": [],
   "source": []
  },
  {
   "cell_type": "code",
   "execution_count": null,
   "metadata": {},
   "outputs": [],
   "source": []
  },
  {
   "cell_type": "code",
   "execution_count": null,
   "metadata": {},
   "outputs": [],
   "source": []
  },
  {
   "cell_type": "code",
   "execution_count": null,
   "metadata": {},
   "outputs": [],
   "source": []
  }
 ],
 "metadata": {
  "kernelspec": {
   "display_name": "Python 3",
   "language": "python",
   "name": "python3"
  },
  "language_info": {
   "codemirror_mode": {
    "name": "ipython",
    "version": 3
   },
   "file_extension": ".py",
   "mimetype": "text/x-python",
   "name": "python",
   "nbconvert_exporter": "python",
   "pygments_lexer": "ipython3",
   "version": "3.7.6"
  }
 },
 "nbformat": 4,
 "nbformat_minor": 4
}
