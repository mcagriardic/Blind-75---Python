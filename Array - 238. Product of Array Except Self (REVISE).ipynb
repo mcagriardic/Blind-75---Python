{
 "cells": [
  {
   "cell_type": "code",
   "execution_count": null,
   "metadata": {},
   "outputs": [],
   "source": []
  },
  {
   "cell_type": "markdown",
   "metadata": {},
   "source": []
  },
  {
   "cell_type": "code",
   "execution_count": null,
   "metadata": {},
   "outputs": [],
   "source": [
    "class Solution:\n",
    "    def productExceptSelf(self, int_list):\n",
    "        products_of_all_ints_except_at_index = [None] * len(int_list)\n",
    "        product_so_far = 1\n",
    "        for i in range(len(int_list)):\n",
    "            products_of_all_ints_except_at_index[i] = product_so_far\n",
    "            product_so_far *= int_list[i]\n",
    "        print(products_of_all_ints_except_at_index)\n",
    "        product_so_far = 1\n",
    "        for i in range(len(int_list) - 1, -1, -1):\n",
    "            products_of_all_ints_except_at_index[i] *= product_so_far\n",
    "            product_so_far *= int_list[i]\n",
    "        return products_of_all_ints_except_at_index"
   ]
  }
 ],
 "metadata": {
  "kernelspec": {
   "display_name": "Python 3",
   "language": "python",
   "name": "python3"
  },
  "language_info": {
   "codemirror_mode": {
    "name": "ipython",
    "version": 3
   },
   "file_extension": ".py",
   "mimetype": "text/x-python",
   "name": "python",
   "nbconvert_exporter": "python",
   "pygments_lexer": "ipython3",
   "version": "3.7.6"
  }
 },
 "nbformat": 4,
 "nbformat_minor": 4
}
