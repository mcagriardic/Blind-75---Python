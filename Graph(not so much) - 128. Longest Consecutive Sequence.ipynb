{
 "cells": [
  {
   "cell_type": "markdown",
   "metadata": {},
   "source": [
    "<a href=\"http://localhost:8888/notebooks/Google%20Drive/__ENGINEERING/Blind%2075/128.%20Longest%20Consecutive%20Sequence.ipynb\">128. Longest Consecutive Sequence</a><div class=\"description__24sA\"><div class=\"css-101rr4k\"><div class=\"css-v3d350\" data-cy=\"question-title\"><br><a href=\"https://leetcode.com/problems/longest-consecutive-sequence/\">https://leetcode.com/problems/longest-consecutive-sequence/</a><br></div></div><div class=\"content__u3I1 question-content__JfgR\"><p>Given an unsorted array of integers&nbsp;<code>nums</code>, return&nbsp;<em>the length of the longest consecutive elements sequence.</em></p><p>You must write an algorithm that runs in&nbsp;<code>O(n)</code>&nbsp;time.</p><p><strong>Example 1:</strong></p><pre><strong>Input:</strong> nums = [100,4,200,1,3,2]\n",
    "<strong>Output:</strong> 4\n",
    "<strong>Explanation:</strong> The longest consecutive elements sequence is <code>[1, 2, 3, 4]</code>. Therefore its length is 4.\n",
    "</pre><p><strong>Example 2:</strong></p><pre><strong>Input:</strong> nums = [0,3,7,2,5,8,4,6,0,1]\n",
    "<strong>Output:</strong> 9</pre><p><strong>Constraints:</strong></p><ul><li><code>0 &lt;= nums.length &lt;= 10<sup>5</sup></code></li><li><code>-10<sup>9</sup>&nbsp;&lt;= nums[i] &lt;= 10<sup>9</sup></code></li></ul></div></div>"
   ]
  },
  {
   "cell_type": "code",
   "execution_count": 1,
   "metadata": {},
   "outputs": [
    {
     "data": {
      "text/plain": [
       "4"
      ]
     },
     "execution_count": 1,
     "metadata": {},
     "output_type": "execute_result"
    }
   ],
   "source": [
    "class Solution:\n",
    "    def longestConsecutive(self, nums):\n",
    "        longest_streak = 0\n",
    "        num_set = set(nums)\n",
    "        for num in num_set:\n",
    "            if num - 1 not in num_set:\n",
    "                current_streak = 1\n",
    "                while num + 1 in num_set:\n",
    "                    num += 1\n",
    "                    current_streak += 1\n",
    "                longest_streak = max(longest_streak, current_streak)\n",
    "        return longest_streak\n",
    "    \n",
    "Solution().longestConsecutive(nums = [100,4,200,1,3,2])"
   ]
  },
  {
   "cell_type": "code",
   "execution_count": null,
   "metadata": {},
   "outputs": [],
   "source": []
  }
 ],
 "metadata": {
  "kernelspec": {
   "display_name": "Python 3",
   "language": "python",
   "name": "python3"
  },
  "language_info": {
   "codemirror_mode": {
    "name": "ipython",
    "version": 3
   },
   "file_extension": ".py",
   "mimetype": "text/x-python",
   "name": "python",
   "nbconvert_exporter": "python",
   "pygments_lexer": "ipython3",
   "version": "3.7.6"
  }
 },
 "nbformat": 4,
 "nbformat_minor": 4
}
