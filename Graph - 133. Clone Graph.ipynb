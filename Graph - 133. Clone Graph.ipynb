{
 "cells": [
  {
   "cell_type": "code",
   "execution_count": null,
   "metadata": {},
   "outputs": [],
   "source": []
  },
  {
   "cell_type": "code",
   "execution_count": 1,
   "metadata": {},
   "outputs": [],
   "source": [
    "\"\"\"\n",
    "# Definition for a Node.\n",
    "class Node:\n",
    "    def __init__(self, val = 0, neighbors = None):\n",
    "        self.val = val\n",
    "        self.neighbors = neighbors if neighbors is not None else []\n",
    "\"\"\"\n",
    "\n",
    "from collections import deque\n",
    "\n",
    "class Solution:\n",
    "    def cloneGraph(self, node):\n",
    "        if not node:\n",
    "            return None\n",
    "        cloned = Node(node.val)\n",
    "        qoriginal = deque([node])\n",
    "        qcloned = deque([cloned])\n",
    "        nodes = {}\n",
    "        nodes[node] = cloned\n",
    "        visited = set()\n",
    "        while qoriginal:\n",
    "            node = qoriginal.popleft()\n",
    "            cnode = qcloned.popleft()\n",
    "            if node in visited:\n",
    "                continue\n",
    "            visited.add(node)\n",
    "            for neighbour in node.neighbors:\n",
    "                if neighbour in nodes:\n",
    "                    node_cloned = nodes[neighbour]\n",
    "                else:\n",
    "                    node_cloned = Node(neighbour.val)\n",
    "                    nodes[neighbour] = node_cloned\n",
    "                cnode.neighbors.append(node_cloned)\n",
    "                qcloned.append(node_cloned)\n",
    "                qoriginal.append(neighbour)\n",
    "        return cloned"
   ]
  },
  {
   "cell_type": "code",
   "execution_count": null,
   "metadata": {},
   "outputs": [],
   "source": []
  }
 ],
 "metadata": {
  "kernelspec": {
   "display_name": "Python 3",
   "language": "python",
   "name": "python3"
  },
  "language_info": {
   "codemirror_mode": {
    "name": "ipython",
    "version": 3
   },
   "file_extension": ".py",
   "mimetype": "text/x-python",
   "name": "python",
   "nbconvert_exporter": "python",
   "pygments_lexer": "ipython3",
   "version": "3.7.6"
  }
 },
 "nbformat": 4,
 "nbformat_minor": 4
}
