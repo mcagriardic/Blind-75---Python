{
 "cells": [
  {
   "cell_type": "code",
   "execution_count": null,
   "metadata": {},
   "outputs": [],
   "source": []
  },
  {
   "cell_type": "markdown",
   "metadata": {},
   "source": [
    "## Messy"
   ]
  },
  {
   "cell_type": "code",
   "execution_count": 2,
   "metadata": {},
   "outputs": [],
   "source": [
    "class Solution:\n",
    "    def reorderList(self, head):\n",
    "        # find mid of the linked list\n",
    "        slow = fast = head\n",
    "        while fast.next and fast.next.next:\n",
    "            slow = slow.next\n",
    "            fast = fast.next.next\n",
    "        # split as left and right (by mid)\n",
    "        left = head\n",
    "        right = slow.next\n",
    "        slow.next = None\n",
    "        # reverse the right part\n",
    "        before = None\n",
    "        cur = right\n",
    "        while cur:\n",
    "            after = cur.next\n",
    "            cur.next = before\n",
    "            before = cur\n",
    "            cur = after\n",
    "        # pair the two\n",
    "        right = before\n",
    "        start = new = left\n",
    "        left = left.next\n",
    "        is_right = True\n",
    "        while left or right:\n",
    "            if right and is_right:\n",
    "                new.next = right\n",
    "                is_right = False\n",
    "                right = right.next\n",
    "            else:\n",
    "                new.next = left\n",
    "                is_right = True\n",
    "                left = left.next\n",
    "            new = new.next\n",
    "        return start"
   ]
  },
  {
   "cell_type": "markdown",
   "metadata": {},
   "source": [
    "## Cleaner"
   ]
  },
  {
   "cell_type": "code",
   "execution_count": 3,
   "metadata": {},
   "outputs": [],
   "source": [
    "class Solution:\n",
    "    def reorderList(self, head):\n",
    "        if not head:\n",
    "            return \n",
    "        \n",
    "        # find the middle of linked list [Problem 876]\n",
    "        # in 1->2->3->4->5->6 find 4 \n",
    "        slow = fast = head\n",
    "        while fast and fast.next:\n",
    "            slow = slow.next\n",
    "            fast = fast.next.next \n",
    "            \n",
    "        # reverse the second part of the list [Problem 206]\n",
    "        # convert 1->2->3->4->5->6 into 1->2->3->4 and 6->5->4\n",
    "        # reverse the second half in-place\n",
    "        prev, curr = None, slow\n",
    "        while curr:\n",
    "            curr.next, prev, curr = prev, curr, curr.next       \n",
    "\n",
    "        # merge two sorted linked lists [Problem 21]\n",
    "        # merge 1->2->3->4 and 6->5->4 into 1->6->2->5->3->4\n",
    "        first, second = head, prev\n",
    "        while second.next:\n",
    "            first.next, first = second, first.next\n",
    "            second.next, second = first, second.next"
   ]
  },
  {
   "cell_type": "code",
   "execution_count": null,
   "metadata": {},
   "outputs": [],
   "source": []
  }
 ],
 "metadata": {
  "kernelspec": {
   "display_name": "Python 3",
   "language": "python",
   "name": "python3"
  },
  "language_info": {
   "codemirror_mode": {
    "name": "ipython",
    "version": 3
   },
   "file_extension": ".py",
   "mimetype": "text/x-python",
   "name": "python",
   "nbconvert_exporter": "python",
   "pygments_lexer": "ipython3",
   "version": "3.7.6"
  }
 },
 "nbformat": 4,
 "nbformat_minor": 4
}
