{
 "cells": [
  {
   "cell_type": "code",
   "execution_count": null,
   "metadata": {},
   "outputs": [],
   "source": []
  },
  {
   "cell_type": "markdown",
   "metadata": {},
   "source": [
    "## Approach 1: Rotate Groups of Four Cells"
   ]
  },
  {
   "cell_type": "code",
   "execution_count": 1,
   "metadata": {},
   "outputs": [],
   "source": [
    "class Solution:\n",
    "    def rotate(self, matrix):\n",
    "        n = len(matrix[0])\n",
    "        for i in range(n // 2 + n % 2):\n",
    "            for j in range(n // 2):\n",
    "                tmp = matrix[n - 1 - j][i]\n",
    "                matrix[n - 1 - j][i] = matrix[n - 1 - i][n - j - 1]\n",
    "                matrix[n - 1 - i][n - j - 1] = matrix[j][n - 1 -i]\n",
    "                matrix[j][n - 1 - i] = matrix[i][j]\n",
    "                matrix[i][j] = tmp\n",
    "        # printing\n",
    "        for row in matrix:\n",
    "            print(row)"
   ]
  },
  {
   "cell_type": "code",
   "execution_count": 2,
   "metadata": {},
   "outputs": [
    {
     "name": "stdout",
     "output_type": "stream",
     "text": [
      "[7, 4, 1]\n",
      "[8, 5, 2]\n",
      "[9, 6, 3]\n"
     ]
    }
   ],
   "source": [
    "Solution().rotate(\n",
    "    [\n",
    "        [1,2,3],\n",
    "        [4,5,6],\n",
    "        [7,8,9]\n",
    "    ]\n",
    ")"
   ]
  },
  {
   "cell_type": "markdown",
   "metadata": {},
   "source": [
    "## Approach 2: Reverse on Diagonal and then Reverse Left to Right"
   ]
  },
  {
   "cell_type": "code",
   "execution_count": 3,
   "metadata": {},
   "outputs": [],
   "source": [
    "class Solution:\n",
    "    def rotate(self, matrix):\n",
    "        for ri in range(len(matrix)):\n",
    "            for ci in range(ri+1, len(matrix[0])):\n",
    "                matrix[ri][ci], matrix[ci][ri] = matrix[ci][ri], matrix[ri][ci]\n",
    "        for ri in range(len(matrix)):\n",
    "            cl = 0\n",
    "            cr = len(matrix[0]) - 1\n",
    "            while cl < cr:\n",
    "                matrix[ri][cl], matrix[ri][cr] = matrix[ri][cr], matrix[ri][cl]\n",
    "                cl += 1\n",
    "                cr -= 1\n",
    "        # printing\n",
    "        for row in matrix:\n",
    "            print(row)"
   ]
  },
  {
   "cell_type": "code",
   "execution_count": 4,
   "metadata": {},
   "outputs": [
    {
     "name": "stdout",
     "output_type": "stream",
     "text": [
      "[7, 4, 1]\n",
      "[8, 5, 2]\n",
      "[9, 6, 3]\n"
     ]
    }
   ],
   "source": [
    "Solution().rotate(\n",
    "    [\n",
    "        [1,2,3],\n",
    "        [4,5,6],\n",
    "        [7,8,9]\n",
    "    ]\n",
    ")"
   ]
  },
  {
   "cell_type": "code",
   "execution_count": null,
   "metadata": {},
   "outputs": [],
   "source": []
  }
 ],
 "metadata": {
  "kernelspec": {
   "display_name": "Python 3",
   "language": "python",
   "name": "python3"
  },
  "language_info": {
   "codemirror_mode": {
    "name": "ipython",
    "version": 3
   },
   "file_extension": ".py",
   "mimetype": "text/x-python",
   "name": "python",
   "nbconvert_exporter": "python",
   "pygments_lexer": "ipython3",
   "version": "3.7.6"
  }
 },
 "nbformat": 4,
 "nbformat_minor": 4
}
