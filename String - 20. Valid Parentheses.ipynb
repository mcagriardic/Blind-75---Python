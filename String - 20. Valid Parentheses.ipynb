{
 "cells": [
  {
   "cell_type": "code",
   "execution_count": null,
   "metadata": {},
   "outputs": [],
   "source": []
  },
  {
   "cell_type": "code",
   "execution_count": 1,
   "metadata": {},
   "outputs": [
    {
     "data": {
      "text/plain": [
       "False"
      ]
     },
     "execution_count": 1,
     "metadata": {},
     "output_type": "execute_result"
    }
   ],
   "source": [
    "class Solution:\n",
    "    def isValid(self, s):\n",
    "        pairs = {\n",
    "            '(': ')',\n",
    "            '{': '}',\n",
    "            '[': ']',\n",
    "        }\n",
    "        stack = []\n",
    "        for char in s:\n",
    "            if stack:\n",
    "                if char in pairs: # opening\n",
    "                    stack.append(char)\n",
    "                else: # closing\n",
    "                    last = stack[-1]\n",
    "                    if pairs[last] != char:\n",
    "                        return False\n",
    "                    else:\n",
    "                        stack.pop()\n",
    "            else:\n",
    "                if char not in pairs:\n",
    "                    return False\n",
    "                stack.append(char)\n",
    "        return False if stack else True\n",
    "\n",
    "Solution().isValid(\"([)]\")"
   ]
  },
  {
   "cell_type": "code",
   "execution_count": null,
   "metadata": {},
   "outputs": [],
   "source": []
  },
  {
   "cell_type": "code",
   "execution_count": null,
   "metadata": {},
   "outputs": [],
   "source": []
  }
 ],
 "metadata": {
  "kernelspec": {
   "display_name": "Python 3",
   "language": "python",
   "name": "python3"
  },
  "language_info": {
   "codemirror_mode": {
    "name": "ipython",
    "version": 3
   },
   "file_extension": ".py",
   "mimetype": "text/x-python",
   "name": "python",
   "nbconvert_exporter": "python",
   "pygments_lexer": "ipython3",
   "version": "3.7.6"
  }
 },
 "nbformat": 4,
 "nbformat_minor": 4
}
