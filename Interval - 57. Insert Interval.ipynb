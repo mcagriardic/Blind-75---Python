{
 "cells": [
  {
   "cell_type": "code",
   "execution_count": null,
   "metadata": {},
   "outputs": [],
   "source": []
  },
  {
   "cell_type": "code",
   "execution_count": null,
   "metadata": {},
   "outputs": [],
   "source": []
  },
  {
   "cell_type": "code",
   "execution_count": null,
   "metadata": {},
   "outputs": [],
   "source": [
    "class Solution:\n",
    "    def insert(self, intervals, newInterval):\n",
    "        nis, nie = newInterval\n",
    "        idx, n = 0, len(intervals)\n",
    "        stack = []\n",
    "        # add the intervals whose start time is smaller than the\n",
    "        # start time of the interval to be inserted\n",
    "        while idx < n and intervals[idx][0] < nis:\n",
    "            stack.append(intervals[idx])\n",
    "            idx += 1\n",
    "        # decide where the interval goes (does it merge, does it not)\n",
    "        # if the end of the last interval is less than the start of\n",
    "        # the interval to be inserted, then there is no overlap\n",
    "        if not stack or stack[-1][1] < nis:\n",
    "            stack.append(newInterval)\n",
    "        # there is overlap, amend the last interval in the stack\n",
    "        else:\n",
    "            stack[-1][1] = max(stack[-1][1], nie)\n",
    "        # to see if there are any merges that needs to happen\n",
    "        for i in range(idx, n):\n",
    "            ss, se = stack[-1]\n",
    "            cs, ce = intervals[i]\n",
    "            if ss <= cs <= se:\n",
    "                stack[-1][1] = max(se, ce)\n",
    "            else:\n",
    "                stack.append(intervals[i])\n",
    "        return stack"
   ]
  }
 ],
 "metadata": {
  "kernelspec": {
   "display_name": "Python 3",
   "language": "python",
   "name": "python3"
  },
  "language_info": {
   "codemirror_mode": {
    "name": "ipython",
    "version": 3
   },
   "file_extension": ".py",
   "mimetype": "text/x-python",
   "name": "python",
   "nbconvert_exporter": "python",
   "pygments_lexer": "ipython3",
   "version": "3.7.6"
  }
 },
 "nbformat": 4,
 "nbformat_minor": 4
}
