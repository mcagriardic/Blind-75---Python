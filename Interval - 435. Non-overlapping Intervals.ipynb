{
 "cells": [
  {
   "cell_type": "code",
   "execution_count": null,
   "metadata": {},
   "outputs": [],
   "source": []
  },
  {
   "cell_type": "markdown",
   "metadata": {},
   "source": [
    "The heuristic is: if two intervals are overlapping, we want to remove the interval that has the longer end point -- the longer interval will always overlap with more or the same number of future intervals compared to the shorter one"
   ]
  },
  {
   "cell_type": "code",
   "execution_count": 1,
   "metadata": {},
   "outputs": [],
   "source": [
    "class Solution:\n",
    "    def eraseOverlapIntervals(self, intervals):\n",
    "        if not intervals:\n",
    "            return 0\n",
    "        intervals.sort()\n",
    "        intervals = iter(intervals)\n",
    "        stack = [next(intervals)]\n",
    "        removed = 0\n",
    "        for cs, ce in intervals:\n",
    "            ss, se = stack[-1]\n",
    "            if ss <= cs < se:\n",
    "                removed += 1\n",
    "                if se > ce:\n",
    "                    stack[-1] = [cs, ce]\n",
    "            else:\n",
    "                stack.append([cs, ce])\n",
    "        return removed"
   ]
  },
  {
   "cell_type": "markdown",
   "metadata": {},
   "source": [
    "<path d=\"M7 14l5-5 5 5z\" fill-rule=\"evenodd\"></path><div class=\"post-area__3YJL\"><div class=\"root__3bcS\"><div class=\"post-info__1K06\"><p>A classic greedy case: interval scheduling problem.<br></p></div></div><div class=\"content-area__2vnF\"><div class=\"discuss-markdown-container\"><p>\n",
    "</p><p>The heuristic is: always pick the interval with the earliest end time. Then you can get the maximal number of non-overlapping intervals. (or minimal number to remove).<br>\n",
    "This is because, the interval with the earliest end time produces the maximal capacity to hold rest intervals.<br>\n",
    "E.g. Suppose current earliest end time of the rest intervals is <code>x</code>. Then available time slot left for other intervals is <code>[x:]</code>. If we choose another interval with end time <code>y</code>, then available time slot would be <code>[y:]</code>. Since <code>x ≤ y</code>, there is no way <code>[y:]</code> can hold more intervals then <code>[x:]</code>. Thus, the heuristic holds.</p><p>\n",
    "</p><p>Therefore, we can sort interval by ending time and key track of current earliest end time. Once next interval's start time is earlier than current end time, then we have to remove one interval. Otherwise, we update earliest end time</p></div></div><div class=\"tag-list-container__2cDj\"><div class=\"css-9sdfuf\"></div></div></div>"
   ]
  },
  {
   "cell_type": "code",
   "execution_count": 2,
   "metadata": {},
   "outputs": [],
   "source": [
    "class Solution:\n",
    "    def eraseOverlapIntervals(self, intervals):\n",
    "        end, cnt = float('-inf'), 0\n",
    "        for s, e in sorted(intervals, key=lambda x: x[1]):\n",
    "            if s >= end: \n",
    "                end = e\n",
    "            else: \n",
    "                cnt += 1\n",
    "        return cnt"
   ]
  },
  {
   "cell_type": "code",
   "execution_count": null,
   "metadata": {},
   "outputs": [],
   "source": []
  }
 ],
 "metadata": {
  "kernelspec": {
   "display_name": "Python 3",
   "language": "python",
   "name": "python3"
  },
  "language_info": {
   "codemirror_mode": {
    "name": "ipython",
    "version": 3
   },
   "file_extension": ".py",
   "mimetype": "text/x-python",
   "name": "python",
   "nbconvert_exporter": "python",
   "pygments_lexer": "ipython3",
   "version": "3.7.6"
  }
 },
 "nbformat": 4,
 "nbformat_minor": 4
}
