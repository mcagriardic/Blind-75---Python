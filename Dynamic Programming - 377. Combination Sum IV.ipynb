{
 "cells": [
  {
   "cell_type": "code",
   "execution_count": null,
   "metadata": {},
   "outputs": [],
   "source": []
  },
  {
   "cell_type": "markdown",
   "metadata": {},
   "source": [
    "## Brute Force"
   ]
  },
  {
   "cell_type": "code",
   "execution_count": 1,
   "metadata": {},
   "outputs": [
    {
     "data": {
      "text/plain": [
       "39882198"
      ]
     },
     "execution_count": 1,
     "metadata": {},
     "output_type": "execute_result"
    }
   ],
   "source": [
    "class Solution(object):\n",
    "    def __init__(self):\n",
    "        self.ans = 0\n",
    "\n",
    "    def combinationSum4(self, nums, target):\n",
    "        def backtrack(agg):\n",
    "            if agg == target:\n",
    "                self.ans += 1\n",
    "                return\n",
    "            for num in nums:\n",
    "                if agg + num <= target:\n",
    "                    backtrack(agg + num)\n",
    "        backtrack(0)\n",
    "        return self.ans\n",
    "\n",
    "# Below execution takes ages\n",
    "Solution().combinationSum4([4,2,1], 32)"
   ]
  },
  {
   "cell_type": "markdown",
   "metadata": {},
   "source": [
    "## Top Down -> Memoization"
   ]
  },
  {
   "cell_type": "code",
   "execution_count": 2,
   "metadata": {},
   "outputs": [
    {
     "data": {
      "text/plain": [
       "39882198"
      ]
     },
     "execution_count": 2,
     "metadata": {},
     "output_type": "execute_result"
    }
   ],
   "source": [
    "from collections import defaultdict\n",
    "\n",
    "class Solution(object):\n",
    "    def combinationSum4(self, nums, target):\n",
    "        cache = defaultdict(int)\n",
    "        def backtrack(agg):\n",
    "            if agg == target:\n",
    "                return 1\n",
    "            if agg in cache:\n",
    "                return cache[agg]\n",
    "            for num in nums:\n",
    "                if agg + num <= target:\n",
    "                    cache[agg] += backtrack(agg + num)\n",
    "            return cache[agg]\n",
    "        return backtrack(0)\n",
    "\n",
    "# Below execution takes ages\n",
    "Solution().combinationSum4([4,2,1], 32)"
   ]
  },
  {
   "cell_type": "markdown",
   "metadata": {},
   "source": [
    "## Bottom-up -> Tabulation"
   ]
  },
  {
   "cell_type": "code",
   "execution_count": 8,
   "metadata": {},
   "outputs": [
    {
     "data": {
      "text/plain": [
       "39882198"
      ]
     },
     "execution_count": 8,
     "metadata": {},
     "output_type": "execute_result"
    }
   ],
   "source": [
    "class Solution(object):\n",
    "    def combinationSum4(self, nums, target):\n",
    "        table = [1] + [0] * target\n",
    "        for tmp_target in range(1, target+1):\n",
    "            for num in nums:\n",
    "                if num <= tmp_target:\n",
    "                    table[tmp_target] += table[tmp_target - num]\n",
    "        return table[-1]\n",
    "\n",
    "# Below execution takes ages\n",
    "Solution().combinationSum4([4,2,1], 32)"
   ]
  },
  {
   "cell_type": "code",
   "execution_count": null,
   "metadata": {},
   "outputs": [],
   "source": []
  }
 ],
 "metadata": {
  "kernelspec": {
   "display_name": "Python 3",
   "language": "python",
   "name": "python3"
  },
  "language_info": {
   "codemirror_mode": {
    "name": "ipython",
    "version": 3
   },
   "file_extension": ".py",
   "mimetype": "text/x-python",
   "name": "python",
   "nbconvert_exporter": "python",
   "pygments_lexer": "ipython3",
   "version": "3.7.6"
  }
 },
 "nbformat": 4,
 "nbformat_minor": 4
}
