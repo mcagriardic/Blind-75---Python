{
 "cells": [
  {
   "cell_type": "code",
   "execution_count": 1,
   "metadata": {},
   "outputs": [],
   "source": [
    "# Graph representation\n",
    "## Adjacency list\n",
    "## Adjacency matrix\n",
    "## Linked list\n",
    "# Graph properties:\n",
    "    # directed\n",
    "    # undirected\n",
    "    # fully connected\n",
    "    # directed acyclic graph (DAG)\n",
    "    # disconnected\n",
    "    # cyclic\n",
    "    # etc\n",
    "# DFS recursive\n",
    "# DFS iterative\n",
    "# BFS\n",
    "# Union-find\n",
    "# Topological sorting\n",
    "# cycle detection in a directed graph\n",
    "# cycle detection in an undirected graph"
   ]
  },
  {
   "cell_type": "code",
   "execution_count": null,
   "metadata": {},
   "outputs": [],
   "source": []
  }
 ],
 "metadata": {
  "kernelspec": {
   "display_name": "Python 3",
   "language": "python",
   "name": "python3"
  },
  "language_info": {
   "codemirror_mode": {
    "name": "ipython",
    "version": 3
   },
   "file_extension": ".py",
   "mimetype": "text/x-python",
   "name": "python",
   "nbconvert_exporter": "python",
   "pygments_lexer": "ipython3",
   "version": "3.7.6"
  }
 },
 "nbformat": 4,
 "nbformat_minor": 4
}
