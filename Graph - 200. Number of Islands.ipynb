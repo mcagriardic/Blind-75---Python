{
 "cells": [
  {
   "cell_type": "markdown",
   "metadata": {},
   "source": [
    "200. Number of Islands - Medium<br><br><a href=\"https://leetcode.com/problems/number-of-islands/\">https://leetcode.com/problems/number-of-islands/</a><br><div class=\"description__24sA\"><div class=\"content__u3I1 question-content__JfgR\"><p>Given an <code>m x n</code> 2D binary grid <code>grid</code> which represents a map of <code>'1'</code>s (land) and <code>'0'</code>s (water), return <em>the number of islands</em>.</p>\n",
    "<p>An <strong>island</strong> is surrounded by water and is formed by connecting adjacent lands horizontally or vertically. You may assume all four edges of the grid are all surrounded by water.</p>\n",
    "<p><strong>Example 1:</strong></p>\n",
    "<pre><strong>Input:</strong> grid = [\n",
    "  [\"1\",\"1\",\"1\",\"1\",\"0\"],\n",
    "  [\"1\",\"1\",\"0\",\"1\",\"0\"],\n",
    "  [\"1\",\"1\",\"0\",\"0\",\"0\"],\n",
    "  [\"0\",\"0\",\"0\",\"0\",\"0\"]\n",
    "]\n",
    "<strong>Output:</strong> 1\n",
    "</pre>\n",
    "<p><strong>Example 2:</strong></p>\n",
    "<pre><strong>Input:</strong> grid = [\n",
    "  [\"1\",\"1\",\"0\",\"0\",\"0\"],\n",
    "  [\"1\",\"1\",\"0\",\"0\",\"0\"],\n",
    "  [\"0\",\"0\",\"1\",\"0\",\"0\"],\n",
    "  [\"0\",\"0\",\"0\",\"1\",\"1\"]\n",
    "]\n",
    "<strong>Output:</strong> 3</pre>\n",
    "<p><strong>Constraints:</strong></p>\n",
    "<ul>\n",
    "<li><code>m == grid.length</code></li>\n",
    "<li><code>n == grid[i].length</code></li>\n",
    "<li><code>1 &lt;= m, n &lt;= 300</code></li>\n",
    "<li><code>grid[i][j]</code> is <code>'0'</code> or <code>'1'</code>.</li></ul></div></div>"
   ]
  },
  {
   "cell_type": "code",
   "execution_count": 1,
   "metadata": {},
   "outputs": [],
   "source": [
    "class Solution:\n",
    "    def numIslands(self, grid):\n",
    "        def explore(ri, ci):\n",
    "            if (not 0 <= ri < len(grid) or\n",
    "                   not 0 <= ci < len(grid[0]) or\n",
    "                   (ri, ci) in island_coords or\n",
    "                   grid[ri][ci] == \"0\"):\n",
    "                return False\n",
    "            island_coords.add(tuple((ri, ci)))\n",
    "            return (\n",
    "                explore(ri-1, ci) or\n",
    "                explore(ri+1, ci) or\n",
    "                explore(ri, ci-1) or \n",
    "                explore(ri, ci+1)\n",
    "            )\n",
    "        island_coords = set()\n",
    "        islands = 0\n",
    "        for ri in range(len(grid)):\n",
    "            for ci in range(len(grid[0])):\n",
    "                if grid[ri][ci] == \"1\" and (ri, ci) not in island_coords:\n",
    "                    explore(ri, ci)\n",
    "                    islands += 1\n",
    "        return islands"
   ]
  },
  {
   "cell_type": "code",
   "execution_count": 2,
   "metadata": {},
   "outputs": [],
   "source": [
    "grid = [\n",
    "  [\"1\",\"1\",\"0\",\"0\",\"0\"],\n",
    "  [\"1\",\"1\",\"0\",\"0\",\"0\"],\n",
    "  [\"0\",\"0\",\"1\",\"0\",\"0\"],\n",
    "  [\"0\",\"0\",\"0\",\"1\",\"1\"]\n",
    "]\n",
    "Solution().numIslands(grid)"
   ]
  },
  {
   "cell_type": "code",
   "execution_count": null,
   "metadata": {},
   "outputs": [],
   "source": []
  }
 ],
 "metadata": {
  "kernelspec": {
   "display_name": "Python 3",
   "language": "python",
   "name": "python3"
  },
  "language_info": {
   "codemirror_mode": {
    "name": "ipython",
    "version": 3
   },
   "file_extension": ".py",
   "mimetype": "text/x-python",
   "name": "python",
   "nbconvert_exporter": "python",
   "pygments_lexer": "ipython3",
   "version": "3.7.6"
  }
 },
 "nbformat": 4,
 "nbformat_minor": 4
}
