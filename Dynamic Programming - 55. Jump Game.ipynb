{
 "cells": [
  {
   "cell_type": "code",
   "execution_count": null,
   "metadata": {},
   "outputs": [],
   "source": []
  },
  {
   "cell_type": "markdown",
   "metadata": {},
   "source": [
    "# TLE Solutions"
   ]
  },
  {
   "cell_type": "markdown",
   "metadata": {},
   "source": [
    "## Top Down -> Memo (TLE)  - O(n^2)"
   ]
  },
  {
   "cell_type": "code",
   "execution_count": 1,
   "metadata": {},
   "outputs": [
    {
     "data": {
      "text/plain": [
       "False"
      ]
     },
     "execution_count": 1,
     "metadata": {},
     "output_type": "execute_result"
    }
   ],
   "source": [
    "class Solution(object):\n",
    "    def canJump(self, nums):\n",
    "        cache = {}\n",
    "        def jump(st):\n",
    "            if st >= len(nums) - 1:\n",
    "                return True\n",
    "            if st in cache:\n",
    "                return cache[st]\n",
    "            if nums[st] == 0:\n",
    "                return False\n",
    "            for i in reversed(range(st+1, st+nums[st]+1)):\n",
    "                cache[st] = jump(i)\n",
    "                if cache[st]:\n",
    "                    return cache[st]\n",
    "            return cache[st]\n",
    "        return jump(0)\n",
    "    \n",
    "Solution().canJump([5,4,3,2,1,0,0])"
   ]
  },
  {
   "cell_type": "markdown",
   "metadata": {},
   "source": [
    "## Iterative Stack based Solution (TLE)  - O(n^2)"
   ]
  },
  {
   "cell_type": "code",
   "execution_count": 2,
   "metadata": {},
   "outputs": [
    {
     "data": {
      "text/plain": [
       "False"
      ]
     },
     "execution_count": 2,
     "metadata": {},
     "output_type": "execute_result"
    }
   ],
   "source": [
    "from collections import OrderedDict\n",
    "\n",
    "class Solution(object):\n",
    "    def canJump(self, nums):\n",
    "        stack = OrderedDict()\n",
    "        stack[0] = \"\"\n",
    "        while stack:\n",
    "            cur = stack.popitem(last=True)[0]\n",
    "            if cur >= len(nums) - 1:\n",
    "                return True\n",
    "            if nums[cur] == 0:\n",
    "                continue\n",
    "            for i in range(cur+1, cur+nums[cur] + 1):\n",
    "                if i >= len(nums) - 1:\n",
    "                    return True\n",
    "                for to_add in range(i, i + nums[i]+1):\n",
    "                    stack[to_add] = \"\"\n",
    "        return False\n",
    "    \n",
    "Solution().canJump([5,4,3,2,1,0,0])"
   ]
  },
  {
   "cell_type": "markdown",
   "metadata": {},
   "source": [
    "# no TLE Solutions"
   ]
  },
  {
   "cell_type": "markdown",
   "metadata": {},
   "source": [
    "## Iterative Solution - O(n)"
   ]
  },
  {
   "cell_type": "code",
   "execution_count": 3,
   "metadata": {},
   "outputs": [
    {
     "data": {
      "text/plain": [
       "False"
      ]
     },
     "execution_count": 3,
     "metadata": {},
     "output_type": "execute_result"
    }
   ],
   "source": [
    "START, END = range(2)\n",
    "\n",
    "class Solution(object):\n",
    "    def canJump(self, nums):\n",
    "        cur = [1, nums[0] + 1]\n",
    "        if cur[END] >= len(nums):\n",
    "            return True\n",
    "        furthest = 0\n",
    "        while True:\n",
    "            start, end = cur\n",
    "            if cur[END] >= len(nums):\n",
    "                return True\n",
    "            if cur[START] == cur[END]:\n",
    "                return False\n",
    "            for i in range(cur[START], cur[END]):\n",
    "                furthest = max(furthest, i + nums[i]+1)\n",
    "            cur = [cur[END], furthest]\n",
    "        return False\n",
    "\n",
    "Solution().canJump([5,4,3,2,1,0,0])"
   ]
  },
  {
   "cell_type": "markdown",
   "metadata": {},
   "source": [
    "## Top-Down -> Memo (slightly optimised) - O(n^2)"
   ]
  },
  {
   "cell_type": "code",
   "execution_count": 4,
   "metadata": {},
   "outputs": [
    {
     "data": {
      "text/plain": [
       "False"
      ]
     },
     "execution_count": 4,
     "metadata": {},
     "output_type": "execute_result"
    }
   ],
   "source": [
    "class Solution(object):\n",
    "    def canJump(self, nums):\n",
    "        cache = {}\n",
    "        def jump(st):\n",
    "            if st >= len(nums) - 1:\n",
    "                return True\n",
    "            if st in cache:\n",
    "                return cache[st]\n",
    "            if nums[st] == 0:\n",
    "                return False\n",
    "            for i in reversed(range(st+1, st+nums[st]+1)):\n",
    "                if i not in cache:\n",
    "                    cache[st] = jump(i)\n",
    "                    if cache[st]:\n",
    "                        return cache[st]\n",
    "            return cache.get(st, False)\n",
    "        return jump(0)\n",
    "    \n",
    "Solution().canJump([5,4,3,2,1,0,0])"
   ]
  },
  {
   "cell_type": "code",
   "execution_count": null,
   "metadata": {},
   "outputs": [],
   "source": []
  }
 ],
 "metadata": {
  "kernelspec": {
   "display_name": "Python 3",
   "language": "python",
   "name": "python3"
  },
  "language_info": {
   "codemirror_mode": {
    "name": "ipython",
    "version": 3
   },
   "file_extension": ".py",
   "mimetype": "text/x-python",
   "name": "python",
   "nbconvert_exporter": "python",
   "pygments_lexer": "ipython3",
   "version": "3.7.6"
  }
 },
 "nbformat": 4,
 "nbformat_minor": 4
}
