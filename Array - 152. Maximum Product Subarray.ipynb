{
 "cells": [
  {
   "cell_type": "code",
   "execution_count": null,
   "metadata": {},
   "outputs": [],
   "source": []
  },
  {
   "cell_type": "markdown",
   "metadata": {},
   "source": [
    "-Write down the example test case (2, 3, -2, 4) on paper, and write down every possible branch for each step\n",
    "Looked something like:<br>\n",
    "<br>\n",
    "2___3__-2_____4 <br>\n",
    "(2) (6) (-12) (-48) <br>\n",
    "____(3) (-6) (-24) <br>\n",
    "________(-2) (-8) <br>\n",
    "_____________(-4) <br>\n",
    "<br>\n",
    "-Looked at the numbers - is there any data that we don't need here? (This is a step recommended by Cracking The Coding Interview. This book has a good write-up on the thought process behind trying to find solutions, I recommend it).<br>\n",
    "<br>\n",
    "-Noticed that the number that leads to the overall biggest number will either be the smallest negative number, or the biggest positive number, at any step. This is the most important realization. After you know this, you can discard all of the numbers that are not the min or the max at each step.\n",
    "Note: not sure if there is a better way I can format this so that I don't have to use underscores for spacing, if anyone knows let me know.\n",
    "\n",
    "<br>\n",
    "<br>\n",
    "Another amazing explanation: <br>\n",
    "https://leetcode.com/problems/maximum-product-subarray/discuss/490459/Unofficial-solution-intuitive-explanations-O(n)-two-different-approaches"
   ]
  },
  {
   "cell_type": "markdown",
   "metadata": {},
   "source": [
    "## Dynamic programming, modified kadene's algorithm"
   ]
  },
  {
   "cell_type": "code",
   "execution_count": null,
   "metadata": {},
   "outputs": [],
   "source": [
    "class Solution:\n",
    "    def maxProduct(self, nums):\n",
    "        if len(nums) == 0:\n",
    "            return 0\n",
    "        max_so_far = nums[0]\n",
    "        min_so_far = nums[0]\n",
    "        result = max_so_far\n",
    "        for i in range(1, len(nums)):\n",
    "            cur = nums[i]\n",
    "            tmp_max = max(cur, max_so_far * cur, cur * min_so_far)\n",
    "            min_so_far = min(cur, max_so_far * cur, cur * min_so_far)\n",
    "            max_so_far = tmp_max\n",
    "            result = max(max_so_far, result)\n",
    "        return result"
   ]
  },
  {
   "cell_type": "code",
   "execution_count": null,
   "metadata": {},
   "outputs": [],
   "source": []
  },
  {
   "cell_type": "code",
   "execution_count": null,
   "metadata": {},
   "outputs": [],
   "source": []
  }
 ],
 "metadata": {
  "kernelspec": {
   "display_name": "Python 3",
   "language": "python",
   "name": "python3"
  },
  "language_info": {
   "codemirror_mode": {
    "name": "ipython",
    "version": 3
   },
   "file_extension": ".py",
   "mimetype": "text/x-python",
   "name": "python",
   "nbconvert_exporter": "python",
   "pygments_lexer": "ipython3",
   "version": "3.7.6"
  }
 },
 "nbformat": 4,
 "nbformat_minor": 4
}
