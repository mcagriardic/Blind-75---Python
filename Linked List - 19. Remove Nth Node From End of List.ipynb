{
 "cells": [
  {
   "cell_type": "code",
   "execution_count": null,
   "metadata": {},
   "outputs": [],
   "source": []
  },
  {
   "cell_type": "markdown",
   "metadata": {},
   "source": [
    "## Get the length of the list, then calculate how many nodes to travel"
   ]
  },
  {
   "cell_type": "code",
   "execution_count": null,
   "metadata": {},
   "outputs": [],
   "source": [
    "class Solution:\n",
    "    def removeNthFromEnd(self, head, n):\n",
    "        length = 0\n",
    "        cur = head\n",
    "        while cur:\n",
    "            cur = cur.next\n",
    "            length += 1\n",
    "        to_loop = length - n\n",
    "        if not to_loop:\n",
    "            return head.next\n",
    "        cur = head\n",
    "        before = None\n",
    "        for _ in range(to_loop):\n",
    "            before = cur\n",
    "            cur = cur.next\n",
    "        before.next = cur.next\n",
    "        return head"
   ]
  },
  {
   "cell_type": "markdown",
   "metadata": {},
   "source": [
    "## Keep 'n' node distance between 2 pointers"
   ]
  },
  {
   "cell_type": "code",
   "execution_count": null,
   "metadata": {},
   "outputs": [],
   "source": [
    "class Solution:\n",
    "    def removeNthFromEnd(self, head, n):\n",
    "        cur = end = head\n",
    "        for _ in range(n):\n",
    "            end = end.next\n",
    "        if not end:\n",
    "            return head.next\n",
    "        before = None\n",
    "        while end:\n",
    "            before = cur\n",
    "            cur = cur.next\n",
    "            end = end.next\n",
    "        before.next = cur.next\n",
    "        return head"
   ]
  },
  {
   "cell_type": "code",
   "execution_count": null,
   "metadata": {},
   "outputs": [],
   "source": []
  }
 ],
 "metadata": {
  "kernelspec": {
   "display_name": "Python 3",
   "language": "python",
   "name": "python3"
  },
  "language_info": {
   "codemirror_mode": {
    "name": "ipython",
    "version": 3
   },
   "file_extension": ".py",
   "mimetype": "text/x-python",
   "name": "python",
   "nbconvert_exporter": "python",
   "pygments_lexer": "ipython3",
   "version": "3.7.6"
  }
 },
 "nbformat": 4,
 "nbformat_minor": 4
}
