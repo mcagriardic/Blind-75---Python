{
 "cells": [
  {
   "cell_type": "markdown",
   "metadata": {},
   "source": [
    "<div class=\"description__24sA\"><div class=\"css-101rr4k\"><div class=\"css-v3d350\" data-cy=\"question-title\"><b>207. Course Schedule - Medium</b></div></div><div class=\"content__u3I1 question-content__JfgR\"><div><p>There are a total of <code>numCourses</code> courses you have to take, labeled from <code>0</code> to <code>numCourses - 1</code>. You are given an array <code>prerequisites</code> where <code>prerequisites[i] = [a<sub>i</sub>, b<sub>i</sub>]</code> indicates that you <strong>must</strong> take course <code>b<sub>i</sub></code> first if you want to take course <code>a<sub>i</sub></code>.</p>\n",
    "<ul>\n",
    "<li>For example, the pair <code>[0, 1]</code>, indicates that to take course <code>0</code> you have to first take course <code>1</code>.</li>\n",
    "</ul>\n",
    "<p>Return <code>true</code> if you can finish all courses. Otherwise, return <code>false</code>.</p>\n",
    "<p><strong>Example 1:</strong></p>\n",
    "<pre><strong>Input:</strong> numCourses = 2, prerequisites = [[1,0]]\n",
    "<strong>Output:</strong> true\n",
    "<strong>Explanation:</strong> There are a total of 2 courses to take. \n",
    "To take course 1 you should have finished course 0. So it is possible.\n",
    "</pre>\n",
    "<p><strong>Example 2:</strong></p>\n",
    "<pre><strong>Input:</strong> numCourses = 2, prerequisites = [[1,0],[0,1]]\n",
    "<strong>Output:</strong> false\n",
    "<strong>Explanation:</strong> There are a total of 2 courses to take. \n",
    "To take course 1 you should have finished course 0, and to take course 0 you should also have finished course 1. So it is impossible.\n",
    "</pre>\n",
    "<p><strong>Constraints:</strong></p>\n",
    "<ul>\n",
    "<li><code>1 &lt;= numCourses &lt;= 10<sup>5</sup></code></li>\n",
    "<li><code>0 &lt;= prerequisites.length &lt;= 5000</code></li>\n",
    "<li><code>prerequisites[i].length == 2</code></li>\n",
    "<li><code>0 &lt;= a<sub>i</sub>, b<sub>i</sub> &lt; numCourses</code></li>\n",
    "<li>All the pairs prerequisites[i] are <strong>unique</strong>.</li></ul></div></div><div class=\"css-isal7m\"><div "
   ]
  },
  {
   "cell_type": "markdown",
   "metadata": {},
   "source": [
    "### BFS"
   ]
  },
  {
   "cell_type": "code",
   "execution_count": 1,
   "metadata": {
    "scrolled": true
   },
   "outputs": [
    {
     "data": {
      "text/plain": [
       "-1"
      ]
     },
     "execution_count": 1,
     "metadata": {},
     "output_type": "execute_result"
    }
   ],
   "source": [
    "class Node:\n",
    "    def __init__(self, val, edges=[]):\n",
    "        self.val = val\n",
    "        self.colour = \"white\"\n",
    "        self.edges = []\n",
    "\n",
    "def build_graph(arr):\n",
    "    nodes = {}\n",
    "    for frm, to in arr:\n",
    "        if frm not in nodes:\n",
    "            nodes[frm] = Node(frm)\n",
    "        if to not in nodes:\n",
    "            nodes[to] = Node(to)\n",
    "        nodes[frm].edges.append(nodes[to])\n",
    "    return nodes\n",
    "\n",
    "from collections import deque\n",
    "\n",
    "def is_cyclic(node):\n",
    "    q = deque([node])\n",
    "    node.colour = \"gray\"\n",
    "    while q:\n",
    "        node = q.popleft()\n",
    "        node.colour = \"black\"\n",
    "        for edge in node.edges:\n",
    "            if edge.colour == \"black\":\n",
    "                print(\"Graph contains cycle...\")\n",
    "                return 1\n",
    "            elif edge.colour == \"white\":\n",
    "                q.append(edge)\n",
    "                edge.colour = \"gray\"\n",
    "    return -1\n",
    "\n",
    "# graph = build_graph(\n",
    "#     [\n",
    "#         [0,1],\n",
    "#         [0,2],\n",
    "#         [1,2],\n",
    "#         [2,0],\n",
    "#         [2,3],\n",
    "#         [3,3]\n",
    "#     ]\n",
    "# )\n",
    "graph = build_graph(\n",
    "    [\n",
    "        [0,1],\n",
    "        [1,2],\n",
    "        [2,3],\n",
    "#         [1,3],\n",
    "        [1,4]\n",
    "    ]\n",
    ")\n",
    "is_cyclic(graph[1])"
   ]
  },
  {
   "cell_type": "markdown",
   "metadata": {},
   "source": [
    "### Topological Sorting"
   ]
  },
  {
   "cell_type": "code",
   "execution_count": 2,
   "metadata": {},
   "outputs": [
    {
     "data": {
      "text/plain": [
       "True"
      ]
     },
     "execution_count": 2,
     "metadata": {},
     "output_type": "execute_result"
    }
   ],
   "source": [
    "from collections import defaultdict, deque\n",
    "\n",
    "class GNode:\n",
    "    def __init__(self, val):\n",
    "        self.val = val\n",
    "        self.indegree = 0\n",
    "        self.outNodes = []\n",
    "\n",
    "class Solution:\n",
    "    def canFinish(self, numCourses, prerequisites):\n",
    "        graph = {}\n",
    "        total_deps = 0\n",
    "        for next_course, must_course in prerequisites:\n",
    "            graph[next_course] = graph.get(next_course, GNode(next_course))\n",
    "            graph[must_course] = graph.get(must_course, GNode(must_course))\n",
    "            graph[next_course].indegree += 1\n",
    "            total_deps += 1\n",
    "            graph[must_course].outNodes.append(graph[next_course])\n",
    "        no_deps = set()\n",
    "        for node in graph.values():\n",
    "            if node.indegree == 0:\n",
    "                no_deps.add(node)\n",
    "        top_sorted = []\n",
    "        removed_edges = 0\n",
    "        while no_deps:\n",
    "            n = next(iter(no_deps))\n",
    "            no_deps.remove(n)\n",
    "            top_sorted.append(n)\n",
    "            for outgoing in n.outNodes:\n",
    "                outgoing.indegree -= 1\n",
    "                removed_edges += 1\n",
    "                if outgoing.indegree == 0:\n",
    "                    no_deps.add(outgoing)\n",
    "        if removed_edges == total_deps:\n",
    "            return True\n",
    "#             return top_sorted[::-1]\n",
    "        else:\n",
    "            return False\n",
    "    \n",
    "Solution().canFinish(4, [[1,0], [2,1], [2,3], [3,0]])"
   ]
  },
  {
   "cell_type": "code",
   "execution_count": null,
   "metadata": {},
   "outputs": [],
   "source": []
  }
 ],
 "metadata": {
  "kernelspec": {
   "display_name": "Python 3",
   "language": "python",
   "name": "python3"
  },
  "language_info": {
   "codemirror_mode": {
    "name": "ipython",
    "version": 3
   },
   "file_extension": ".py",
   "mimetype": "text/x-python",
   "name": "python",
   "nbconvert_exporter": "python",
   "pygments_lexer": "ipython3",
   "version": "3.7.6"
  }
 },
 "nbformat": 4,
 "nbformat_minor": 4
}
