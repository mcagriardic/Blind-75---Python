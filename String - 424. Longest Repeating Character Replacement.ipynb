{
 "cells": [
  {
   "cell_type": "code",
   "execution_count": null,
   "metadata": {},
   "outputs": [],
   "source": []
  },
  {
   "cell_type": "code",
   "execution_count": null,
   "metadata": {},
   "outputs": [],
   "source": [
    "class Solution:\n",
    "    def characterReplacement(self, s, k):\n",
    "        char_frequencies = {}\n",
    "        left = ans = 0\n",
    "        for right, rchar in enumerate(s):\n",
    "            char_frequencies[rchar] = char_frequencies.get(rchar, 0) + 1\n",
    "            while (right - left + 1) - max(char_frequencies.values()) > k:\n",
    "                lchar = s[left]\n",
    "                char_frequencies[lchar] -= 1\n",
    "                left += 1\n",
    "            ans = max(ans, right-left+1)\n",
    "        return ans"
   ]
  }
 ],
 "metadata": {
  "kernelspec": {
   "display_name": "Python 3",
   "language": "python",
   "name": "python3"
  },
  "language_info": {
   "codemirror_mode": {
    "name": "ipython",
    "version": 3
   },
   "file_extension": ".py",
   "mimetype": "text/x-python",
   "name": "python",
   "nbconvert_exporter": "python",
   "pygments_lexer": "ipython3",
   "version": "3.7.6"
  }
 },
 "nbformat": 4,
 "nbformat_minor": 4
}
