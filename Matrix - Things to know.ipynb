{
 "cells": [
  {
   "cell_type": "code",
   "execution_count": null,
   "metadata": {},
   "outputs": [],
   "source": [
    "# reusing the matrix for O(1)\n",
    "    # this is not immediately visible at the beginning\n",
    "    # however, definitely look out for this\n",
    "    # the methods include\n",
    "        # multiple scans over the matrix\n",
    "            # top left to bottom right\n",
    "            # bottom left to bottom right\n",
    "        # setting some cells at the edges of the matrix and excluding those in the iteration\n",
    "            # (using these set cells exclusively for lookups)\n",
    "        # top + left - diag kind of calculations for summed area table logic\n",
    "# mirroring a row\n",
    "    # 432 -> 234\n",
    "# transposing\n",
    "    # both by using zip(*arr)\n",
    "    # and by (for square matrices):\n",
    "        ## for ri in range(len(matrix)):\n",
    "        ##    for ci in range(ri+1, len(matrix[0])):\n",
    "        ##        matrix[ri][ci], matrix[ci][ri] = matrix[ci][ri], matrix[ri][ci]"
   ]
  }
 ],
 "metadata": {
  "kernelspec": {
   "display_name": "Python 3",
   "language": "python",
   "name": "python3"
  },
  "language_info": {
   "codemirror_mode": {
    "name": "ipython",
    "version": 3
   },
   "file_extension": ".py",
   "mimetype": "text/x-python",
   "name": "python",
   "nbconvert_exporter": "python",
   "pygments_lexer": "ipython3",
   "version": "3.7.6"
  }
 },
 "nbformat": 4,
 "nbformat_minor": 4
}
