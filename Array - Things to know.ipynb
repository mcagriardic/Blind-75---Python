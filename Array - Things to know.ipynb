{
 "cells": [
  {
   "cell_type": "code",
   "execution_count": null,
   "metadata": {},
   "outputs": [],
   "source": [
    "# Sorting\n",
    "# Hashmap\n",
    "    # Maybe an overkill but:\n",
    "        # One pass and\n",
    "        # Two pass\n",
    "# Greedy (especially problematic) # Problem 238\n",
    "# Dynamic programming (especially problematic)\n",
    "# Kadane's algorithm (especially problematic)\n",
    "# binary search (easy to implement but so many edge cases\n",
    "        # and very high chance of making one off mistakes)\n",
    "    # modified binary search\n",
    "    # python 'bisect' module\n",
    "    # edge cases for modified binary search\n",
    "        # clearly lay out all the edge cases\n",
    "        # do not proceed with the question before thinking about all\n",
    "            # the potential edge cases.\n",
    "# 2 pointers\n",
    "# 3 pointers (e.g 3 sum question)"
   ]
  }
 ],
 "metadata": {
  "kernelspec": {
   "display_name": "Python 3",
   "language": "python",
   "name": "python3"
  },
  "language_info": {
   "codemirror_mode": {
    "name": "ipython",
    "version": 3
   },
   "file_extension": ".py",
   "mimetype": "text/x-python",
   "name": "python",
   "nbconvert_exporter": "python",
   "pygments_lexer": "ipython3",
   "version": "3.7.6"
  }
 },
 "nbformat": 4,
 "nbformat_minor": 4
}
