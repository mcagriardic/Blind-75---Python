{
 "cells": [
  {
   "cell_type": "code",
   "execution_count": null,
   "metadata": {},
   "outputs": [],
   "source": []
  },
  {
   "cell_type": "code",
   "execution_count": null,
   "metadata": {},
   "outputs": [],
   "source": []
  },
  {
   "cell_type": "code",
   "execution_count": null,
   "metadata": {},
   "outputs": [],
   "source": [
    "from heapq import *\n",
    "\n",
    "class Solution:\n",
    "    def mergeKLists(self, lists):\n",
    "        class Wrapper:\n",
    "            def __init__(self, node):\n",
    "                self.node = node\n",
    "\n",
    "            def __lt__(self, other):\n",
    "                return self.node.val < other.node.val\n",
    "        h = []\n",
    "        for node in lists:\n",
    "            if node:\n",
    "                heappush(h, Wrapper(node))\n",
    "        start = prev = ListNode(-1)\n",
    "        while h:\n",
    "            wrapper = heappop(h)\n",
    "            prev.next = wrapper.node       # previously it was; ListNode(wrapper.node.val)\n",
    "            if wrapper.node.next:\n",
    "                heappush(h, Wrapper(wrapper.node.next))\n",
    "            prev = prev.next\n",
    "        return start.next"
   ]
  }
 ],
 "metadata": {
  "kernelspec": {
   "display_name": "Python 3",
   "language": "python",
   "name": "python3"
  },
  "language_info": {
   "codemirror_mode": {
    "name": "ipython",
    "version": 3
   },
   "file_extension": ".py",
   "mimetype": "text/x-python",
   "name": "python",
   "nbconvert_exporter": "python",
   "pygments_lexer": "ipython3",
   "version": "3.7.6"
  }
 },
 "nbformat": 4,
 "nbformat_minor": 4
}
