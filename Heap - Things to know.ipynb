{
 "cells": [
  {
   "cell_type": "code",
   "execution_count": null,
   "metadata": {},
   "outputs": [],
   "source": [
    "# How heaps work\n",
    "    # what are the time complexities of operations\n",
    "        # heapify     O(n)\n",
    "        # insert      O(logn)\n",
    "        # delete      O(logn)\n",
    "        # search      (normal in operation would take O(n). However, max or min)\n",
    "            # element will always be on the top of the heap.\n",
    "    # what are the heap types\n",
    "        # max heap\n",
    "        # min heap\n",
    "# What are the properties of heap\n",
    "    #   check below to be sure\n",
    "    # full binary tree?\n",
    "    # complete binary tree?\n",
    "    # how does insert work? (insert at the very bottom of the tree then sift down)\n",
    "        # https://github.com/python/cpython/blob/main/Lib/heapq.py#L133\n",
    "    # how does delete work? (remove the first element of the heap, the siftup to restore the heap property)\n",
    "        # https://github.com/python/cpython/blob/main/Lib/heapq.py#L141\n",
    "# what are the methods of heapq library in python\n",
    "    #    Iterables here are the heap\n",
    "    # heappush(<iterable>, <item>) -> returns null\n",
    "    # heappop(<iterable>) -> returns the popped element\n",
    "    # heappushpop(<iterable>, <item>) (Fast version of a heappush followed by a heappop)\n",
    "    # nlargest(k, <iterable>, key=<func>) -> returns n largest\n",
    "    # nsmallest... (same as above)\n",
    "    # heapreplace(<iterable>, <item) -> returns the the top element of the heap that is replaced\n",
    "    # heapify(<iterable>) -> returns null\n",
    "    # merge(<*iterables>, key=<func>, reverse=<True,False>)\n",
    "        # Similar to sorted(itertools.chain(*iterables)) but returns a generator,\n",
    "        # does not pull the data into memory all at once, and assumes that each of\n",
    "        # the input streams is already sorted (smallest to largest).\n",
    "        # >>> list(merge([1,3,5,7], [0,2,4,8], [5,10,15,20], [], [25]))\n",
    "        # [0, 1, 2, 3, 4, 5, 5, 7, 8, 10, 15, 20, 25]\n",
    "        # >>> list(merge(['dog', 'horse'], ['cat', 'fish', 'kangaroo'], key=len))\n",
    "        # ['dog', 'cat', 'fish', 'horse', 'kangaroo']\n",
    "        \n",
    "# Question types\n",
    "    # top k elements\n",
    "    # median (2 heaps)\n",
    "    # smallest, largest"
   ]
  }
 ],
 "metadata": {
  "kernelspec": {
   "display_name": "Python 3",
   "language": "python",
   "name": "python3"
  },
  "language_info": {
   "codemirror_mode": {
    "name": "ipython",
    "version": 3
   },
   "file_extension": ".py",
   "mimetype": "text/x-python",
   "name": "python",
   "nbconvert_exporter": "python",
   "pygments_lexer": "ipython3",
   "version": "3.7.6"
  }
 },
 "nbformat": 4,
 "nbformat_minor": 4
}
