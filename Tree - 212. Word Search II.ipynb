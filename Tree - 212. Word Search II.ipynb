{
 "cells": [
  {
   "cell_type": "code",
   "execution_count": 4,
   "metadata": {},
   "outputs": [],
   "source": []
  },
  {
   "cell_type": "code",
   "execution_count": null,
   "metadata": {},
   "outputs": [],
   "source": [
    "class Solution:\n",
    "    def findWords(self, board, words):\n",
    "        def word_to_trie(words):\n",
    "            trie = {}\n",
    "            for word in words:\n",
    "                cur = trie\n",
    "                for char in word:\n",
    "                    if char not in cur:\n",
    "                        cur[char] = {}\n",
    "                    cur = cur[char]\n",
    "                cur[\"$\"] = word\n",
    "            return trie\n",
    "        \n",
    "        def explore(ri, ci, cur_trie):\n",
    "            if \"$\" in cur_trie:\n",
    "                ans.append(cur_trie[\"$\"])\n",
    "                cur_trie.pop(\"$\") # this needs to be implemented\n",
    "            if (not 0 <= ri < len(board) or\n",
    "                   not 0 <= ci < len(board[0]) or\n",
    "                   board[ri][ci] not in cur_trie or\n",
    "                   board[ri][ci] == \"#\"):\n",
    "                return False\n",
    "            prev = board[ri][ci]\n",
    "            board[ri][ci] = \"#\"\n",
    "            ret = (\n",
    "                explore(ri-1, ci, cur_trie[prev]) or\n",
    "                explore(ri+1, ci, cur_trie[prev]) or\n",
    "                explore(ri, ci-1, cur_trie[prev]) or\n",
    "                explore(ri, ci+1, cur_trie[prev])\n",
    "            )\n",
    "            board[ri][ci] = prev\n",
    "            if not cur_trie[prev]: # along with this for this to work\n",
    "                cur_trie.pop(prev)\n",
    "        ans = []\n",
    "        trie = word_to_trie(words)\n",
    "        for ri in range(len(board)):\n",
    "            for ci in range(len(board[0])):\n",
    "                char = board[ri][ci]\n",
    "                if char in trie:\n",
    "                    explore(ri, ci, trie)\n",
    "        return ans"
   ]
  },
  {
   "cell_type": "code",
   "execution_count": 5,
   "metadata": {},
   "outputs": [
    {
     "data": {
      "text/plain": [
       "['oath', 'eat']"
      ]
     },
     "execution_count": 5,
     "metadata": {},
     "output_type": "execute_result"
    }
   ],
   "source": [
    "board = [\n",
    "    [\"o\",\"a\",\"a\",\"n\"],\n",
    "    [\"e\",\"t\",\"a\",\"e\"],\n",
    "    [\"i\",\"h\",\"k\",\"r\"],\n",
    "    [\"i\",\"f\",\"l\",\"v\"]\n",
    "]\n",
    "words = [\"oath\",\"pea\",\"eat\",\"rain\"]\n",
    "\n",
    "Solution().findWords(board, words)   # ret -> [\"eat\",\"oath\"]"
   ]
  },
  {
   "cell_type": "code",
   "execution_count": null,
   "metadata": {},
   "outputs": [],
   "source": []
  }
 ],
 "metadata": {
  "kernelspec": {
   "display_name": "Python 3",
   "language": "python",
   "name": "python3"
  },
  "language_info": {
   "codemirror_mode": {
    "name": "ipython",
    "version": 3
   },
   "file_extension": ".py",
   "mimetype": "text/x-python",
   "name": "python",
   "nbconvert_exporter": "python",
   "pygments_lexer": "ipython3",
   "version": "3.7.6"
  }
 },
 "nbformat": 4,
 "nbformat_minor": 4
}
