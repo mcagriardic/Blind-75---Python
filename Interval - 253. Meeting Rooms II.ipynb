{
 "cells": [
  {
   "cell_type": "code",
   "execution_count": null,
   "metadata": {},
   "outputs": [],
   "source": []
  },
  {
   "cell_type": "code",
   "execution_count": 1,
   "metadata": {},
   "outputs": [],
   "source": [
    "import heapq\n",
    "\n",
    "class Solution:\n",
    "    def minMeetingRooms(self, intervals):\n",
    "        if not intervals:\n",
    "            return 0\n",
    "        intervals.sort()\n",
    "        h = []\n",
    "        cur = ans = 0\n",
    "        for cs, ce in intervals:\n",
    "            while h and h[0] <= cs:\n",
    "                cur -= 1\n",
    "                heapq.heappop(h)\n",
    "            heapq.heappush(h, ce)\n",
    "            cur += 1\n",
    "            ans = max(ans, cur)\n",
    "        return ans"
   ]
  },
  {
   "cell_type": "code",
   "execution_count": null,
   "metadata": {},
   "outputs": [],
   "source": []
  }
 ],
 "metadata": {
  "kernelspec": {
   "display_name": "Python 3",
   "language": "python",
   "name": "python3"
  },
  "language_info": {
   "codemirror_mode": {
    "name": "ipython",
    "version": 3
   },
   "file_extension": ".py",
   "mimetype": "text/x-python",
   "name": "python",
   "nbconvert_exporter": "python",
   "pygments_lexer": "ipython3",
   "version": "3.7.6"
  }
 },
 "nbformat": 4,
 "nbformat_minor": 4
}
