{
 "cells": [
  {
   "cell_type": "code",
   "execution_count": null,
   "metadata": {},
   "outputs": [],
   "source": []
  },
  {
   "cell_type": "markdown",
   "metadata": {},
   "source": [
    "## Without skipping the seen"
   ]
  },
  {
   "cell_type": "code",
   "execution_count": 1,
   "metadata": {},
   "outputs": [],
   "source": [
    "class Solution:\n",
    "    def threeSum(self, nums):\n",
    "        ans = set()\n",
    "        for slow in range(len(nums)):\n",
    "            target = 0 - nums[slow]\n",
    "            seen = set()\n",
    "            for fast in range(slow+1, len(nums)):\n",
    "                if target - nums[fast] in seen:\n",
    "                    ans.add(tuple(sorted([nums[slow], nums[fast], target - nums[fast]])))\n",
    "                seen.add(nums[fast])\n",
    "        return ans"
   ]
  },
  {
   "cell_type": "markdown",
   "metadata": {},
   "source": [
    "## With skipping the seen"
   ]
  },
  {
   "cell_type": "code",
   "execution_count": 2,
   "metadata": {},
   "outputs": [],
   "source": [
    "class Solution:\n",
    "    def threeSum(self, nums):\n",
    "        ans = set()\n",
    "        dupes = set()\n",
    "        for slow in range(len(nums)):\n",
    "            if nums[slow] in dupes:\n",
    "                continue\n",
    "            dupes.add(nums[slow])\n",
    "            target = 0 - nums[slow]\n",
    "            seen = set()\n",
    "            for fast in range(slow+1, len(nums)):\n",
    "                if target - nums[fast] in seen:\n",
    "                    ans.add(tuple(sorted([nums[slow], nums[fast], target - nums[fast]])))\n",
    "                seen.add(nums[fast])\n",
    "        return ans"
   ]
  },
  {
   "cell_type": "code",
   "execution_count": null,
   "metadata": {},
   "outputs": [],
   "source": []
  }
 ],
 "metadata": {
  "kernelspec": {
   "display_name": "Python 3",
   "language": "python",
   "name": "python3"
  },
  "language_info": {
   "codemirror_mode": {
    "name": "ipython",
    "version": 3
   },
   "file_extension": ".py",
   "mimetype": "text/x-python",
   "name": "python",
   "nbconvert_exporter": "python",
   "pygments_lexer": "ipython3",
   "version": "3.7.6"
  }
 },
 "nbformat": 4,
 "nbformat_minor": 4
}
