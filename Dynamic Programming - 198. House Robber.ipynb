{
 "cells": [
  {
   "cell_type": "code",
   "execution_count": null,
   "metadata": {},
   "outputs": [],
   "source": []
  },
  {
   "cell_type": "markdown",
   "metadata": {},
   "source": [
    "## Brute Force"
   ]
  },
  {
   "cell_type": "code",
   "execution_count": null,
   "metadata": {},
   "outputs": [],
   "source": [
    "class Solution(object):\n",
    "    def __init__(self):\n",
    "        self.ans = 0\n",
    "\n",
    "    def rob(self, nums):\n",
    "        def dfs(st=0, agg=0):\n",
    "            if st >= len(nums):\n",
    "                self.ans = max(self.ans, agg)\n",
    "                return False\n",
    "            return dfs(st+1, agg) or dfs(st+2, agg + nums[st])\n",
    "        dfs()\n",
    "        return self.ans"
   ]
  },
  {
   "cell_type": "markdown",
   "metadata": {},
   "source": [
    "## Top Down -> Memoization"
   ]
  },
  {
   "cell_type": "code",
   "execution_count": null,
   "metadata": {},
   "outputs": [],
   "source": [
    "class Solution(object):\n",
    "    def rob(self, nums):\n",
    "        cache = {}\n",
    "        def dfs(st=0, agg=0):\n",
    "            if st >= len(nums):\n",
    "                return agg\n",
    "            if (st, agg) in cache:\n",
    "                return cache[(st, agg)]\n",
    "            cache[(st, agg)] = max(dfs(st+1, agg), dfs(st+2, agg + nums[st]))\n",
    "            return cache[(st, agg)]\n",
    "        return dfs()\n"
   ]
  },
  {
   "cell_type": "markdown",
   "metadata": {},
   "source": [
    "## Bottom-up -> Tabulation"
   ]
  },
  {
   "cell_type": "code",
   "execution_count": null,
   "metadata": {},
   "outputs": [],
   "source": [
    "class Solution(object):\n",
    "    def rob(self, nums):\n",
    "        if len(nums) == 1:\n",
    "            return nums[0]\n",
    "        if len(nums) == 2:\n",
    "            return max(nums)\n",
    "        table = [0] * (len(nums) + 2)\n",
    "        for i in range(2, len(table)):\n",
    "            table[i] = max(table[i-1], table[i-2] + nums[i-2])\n",
    "        return table[-1]\n",
    "\n",
    "Solution().rob([2,1,1,2])"
   ]
  },
  {
   "cell_type": "markdown",
   "metadata": {},
   "source": [
    "## Greedy"
   ]
  },
  {
   "cell_type": "code",
   "execution_count": null,
   "metadata": {},
   "outputs": [],
   "source": [
    "class Solution(object):\n",
    "    def rob(self, nums):\n",
    "        if len(nums) == 1:\n",
    "            return nums[0]\n",
    "        if len(nums) == 2:\n",
    "            return max(nums)\n",
    "        prev = nums[1]\n",
    "        prev_prev = nums[0]\n",
    "        cur = 0\n",
    "        for i in range(2, len(nums)):\n",
    "            cur = max(prev, prev_prev + nums[i])\n",
    "            prev_prev = max(prev_prev, prev)\n",
    "            prev = cur\n",
    "        return cur\n",
    "\n",
    "Solution().rob([2,1,1,2])"
   ]
  },
  {
   "cell_type": "code",
   "execution_count": null,
   "metadata": {},
   "outputs": [],
   "source": []
  }
 ],
 "metadata": {
  "kernelspec": {
   "display_name": "Python 3",
   "language": "python",
   "name": "python3"
  },
  "language_info": {
   "codemirror_mode": {
    "name": "ipython",
    "version": 3
   },
   "file_extension": ".py",
   "mimetype": "text/x-python",
   "name": "python",
   "nbconvert_exporter": "python",
   "pygments_lexer": "ipython3",
   "version": "3.7.6"
  }
 },
 "nbformat": 4,
 "nbformat_minor": 4
}
