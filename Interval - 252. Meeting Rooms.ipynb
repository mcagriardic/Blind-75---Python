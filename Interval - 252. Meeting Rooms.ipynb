{
 "cells": [
  {
   "cell_type": "code",
   "execution_count": null,
   "metadata": {},
   "outputs": [],
   "source": []
  },
  {
   "cell_type": "markdown",
   "metadata": {},
   "source": [
    "The idea here is to sort the meetings by starting time. Then, go through the meetings one by one and make sure that each meeting ends before the next one starts."
   ]
  },
  {
   "cell_type": "code",
   "execution_count": 6,
   "metadata": {},
   "outputs": [
    {
     "data": {
      "text/plain": [
       "False"
      ]
     },
     "execution_count": 6,
     "metadata": {},
     "output_type": "execute_result"
    }
   ],
   "source": [
    "class Solution:\n",
    "    def canAttendMeetings(self, intervals):\n",
    "        if not intervals:\n",
    "            return True\n",
    "        intervals.sort()\n",
    "        for prev, cur in zip(intervals, intervals[1:]):\n",
    "            ps, pe = prev\n",
    "            cs, ce = cur\n",
    "            if cs < pe:\n",
    "                return False\n",
    "        return True\n",
    "Solution().canAttendMeetings([[0,30],[60,240],[90,120]])"
   ]
  },
  {
   "cell_type": "markdown",
   "metadata": {},
   "source": [
    "Below with a stack (a bit of an overkill)"
   ]
  },
  {
   "cell_type": "code",
   "execution_count": 2,
   "metadata": {},
   "outputs": [
    {
     "data": {
      "text/plain": [
       "False"
      ]
     },
     "execution_count": 2,
     "metadata": {},
     "output_type": "execute_result"
    }
   ],
   "source": [
    "class Solution:\n",
    "    def canAttendMeetings(self, intervals):\n",
    "        if not intervals:\n",
    "            return True\n",
    "        intervals.sort()\n",
    "        intervals = iter(intervals)\n",
    "        stack = [next(intervals)]\n",
    "        for cs, ce in intervals:\n",
    "            ss, se = stack[-1]\n",
    "            if ss <= cs < se:\n",
    "                return False\n",
    "            else:\n",
    "                stack.append([cs,ce])\n",
    "        return True\n",
    "\n",
    "Solution().canAttendMeetings([[0,30],[60,240],[90,120]])"
   ]
  },
  {
   "cell_type": "code",
   "execution_count": null,
   "metadata": {},
   "outputs": [],
   "source": []
  }
 ],
 "metadata": {
  "kernelspec": {
   "display_name": "Python 3",
   "language": "python",
   "name": "python3"
  },
  "language_info": {
   "codemirror_mode": {
    "name": "ipython",
    "version": 3
   },
   "file_extension": ".py",
   "mimetype": "text/x-python",
   "name": "python",
   "nbconvert_exporter": "python",
   "pygments_lexer": "ipython3",
   "version": "3.7.6"
  }
 },
 "nbformat": 4,
 "nbformat_minor": 4
}
