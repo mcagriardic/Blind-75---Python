{
 "cells": [
  {
   "cell_type": "code",
   "execution_count": null,
   "metadata": {},
   "outputs": [],
   "source": []
  },
  {
   "cell_type": "markdown",
   "metadata": {},
   "source": [
    "## Same as below with more verbose if statements"
   ]
  },
  {
   "cell_type": "code",
   "execution_count": null,
   "metadata": {},
   "outputs": [],
   "source": [
    "class Solution:\n",
    "    def isSameTree(self, p, q):\n",
    "        queue = deque([[p, q]])\n",
    "        while queue:\n",
    "            q, p = queue.popleft()\n",
    "            if (q and not p) or (not q and p):\n",
    "                return False\n",
    "            if not q and not p:\n",
    "                continue\n",
    "            if q.val != p.val:\n",
    "                return False\n",
    "            queue.append([q.left, p.left])\n",
    "            queue.append([q.right, p.right])\n",
    "        return True"
   ]
  },
  {
   "cell_type": "markdown",
   "metadata": {},
   "source": [
    "## More concise/compact if statements"
   ]
  },
  {
   "cell_type": "code",
   "execution_count": null,
   "metadata": {},
   "outputs": [],
   "source": [
    "class Solution:\n",
    "    def isSameTree(self, p, q):\n",
    "        queue = deque([[p, q]])\n",
    "        while queue:\n",
    "            q, p = queue.popleft()\n",
    "            if not q and not p:\n",
    "                continue\n",
    "            if not q or not p:\n",
    "                return False\n",
    "            if q.val != p.val:\n",
    "                return False\n",
    "            queue.append([q.left, p.left])\n",
    "            queue.append([q.right, p.right])\n",
    "        return True"
   ]
  },
  {
   "cell_type": "code",
   "execution_count": null,
   "metadata": {},
   "outputs": [],
   "source": []
  },
  {
   "cell_type": "code",
   "execution_count": null,
   "metadata": {},
   "outputs": [],
   "source": []
  }
 ],
 "metadata": {
  "kernelspec": {
   "display_name": "Python 3",
   "language": "python",
   "name": "python3"
  },
  "language_info": {
   "codemirror_mode": {
    "name": "ipython",
    "version": 3
   },
   "file_extension": ".py",
   "mimetype": "text/x-python",
   "name": "python",
   "nbconvert_exporter": "python",
   "pygments_lexer": "ipython3",
   "version": "3.7.6"
  }
 },
 "nbformat": 4,
 "nbformat_minor": 4
}
