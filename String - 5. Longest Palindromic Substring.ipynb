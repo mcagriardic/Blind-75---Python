{
 "cells": [
  {
   "cell_type": "code",
   "execution_count": null,
   "metadata": {},
   "outputs": [],
   "source": []
  },
  {
   "cell_type": "markdown",
   "metadata": {},
   "source": [
    "## Brute Force - TLE"
   ]
  },
  {
   "cell_type": "code",
   "execution_count": 1,
   "metadata": {},
   "outputs": [
    {
     "name": "stdout",
     "output_type": "stream",
     "text": [
      "a\n",
      "bab\n"
     ]
    }
   ],
   "source": [
    "class Solution:\n",
    "    def longestPalindrome(self, s):\n",
    "        def is_palindrome(st, end):\n",
    "            while st <= end:\n",
    "                if not s[st] == s[end]:\n",
    "                    return False\n",
    "                st += 1\n",
    "                end -= 1\n",
    "            return True\n",
    "        res = \"\"\n",
    "        for start in range(len(s)):\n",
    "            for end in range(start, len(s)):\n",
    "                if is_palindrome(start, end):\n",
    "                    res = max(res, s[start:end+1], key=len)\n",
    "        return res\n",
    "\n",
    "print(Solution().longestPalindrome(\"a\"))\n",
    "print(Solution().longestPalindrome(\"babad\"))"
   ]
  },
  {
   "cell_type": "markdown",
   "metadata": {},
   "source": [
    "## Dynamic Programming"
   ]
  },
  {
   "cell_type": "code",
   "execution_count": 17,
   "metadata": {},
   "outputs": [
    {
     "name": "stdout",
     "output_type": "stream",
     "text": [
      "a\n",
      "bab\n"
     ]
    }
   ],
   "source": [
    "class Solution:\n",
    "    def longestPalindrome(self, s: str) -> str:\n",
    "        if s is \"\":\n",
    "            return s\n",
    "        res = \"\"\n",
    "        dp = [None] * len(s)\n",
    "        for k in range(len(s)):\n",
    "            for l in range(k+1):\n",
    "                if k == l:\n",
    "                    dp[l] = True\n",
    "                elif k == l+1:\n",
    "                    dp[l] = (s[k] == s[l])\n",
    "                else:\n",
    "                    dp[l] = (dp[l+1] and s[k] == s[l])\n",
    "                if dp[l] and k - l + 1 > len(res):\n",
    "                    res = s[l:k+1]\n",
    "        return res\n",
    "    \n",
    "print(Solution().longestPalindrome(\"a\"))\n",
    "print(Solution().longestPalindrome(\"babad\"))"
   ]
  },
  {
   "cell_type": "markdown",
   "metadata": {},
   "source": [
    "## Expand from the mid"
   ]
  },
  {
   "cell_type": "code",
   "execution_count": 2,
   "metadata": {},
   "outputs": [
    {
     "name": "stdout",
     "output_type": "stream",
     "text": [
      "a\n",
      "bab\n"
     ]
    }
   ],
   "source": [
    "class Solution:\n",
    "    def longestPalindrome(self, s):\n",
    "        def expand_from_mid(left, right):\n",
    "            while left >= 0 and right < len(s) and s[left] == s[right]:\n",
    "                left -= 1\n",
    "                right += 1\n",
    "            return [left+1, right]\n",
    "\n",
    "        res = [0, 0]\n",
    "        for i in range(len(s)):\n",
    "            res = max(\n",
    "                res,\n",
    "                max(\n",
    "                    expand_from_mid(i, i),\n",
    "                    expand_from_mid(i, i+1),\n",
    "                    key=lambda el: el[1]-el[0]\n",
    "                ),\n",
    "                key=lambda el: el[1]-el[0])\n",
    "        return s[res[0]:res[1]]\n",
    "\n",
    "print(Solution().longestPalindrome(\"a\"))\n",
    "print(Solution().longestPalindrome(\"babad\"))"
   ]
  },
  {
   "cell_type": "code",
   "execution_count": null,
   "metadata": {},
   "outputs": [],
   "source": []
  },
  {
   "cell_type": "code",
   "execution_count": null,
   "metadata": {},
   "outputs": [],
   "source": []
  }
 ],
 "metadata": {
  "kernelspec": {
   "display_name": "Python 3",
   "language": "python",
   "name": "python3"
  },
  "language_info": {
   "codemirror_mode": {
    "name": "ipython",
    "version": 3
   },
   "file_extension": ".py",
   "mimetype": "text/x-python",
   "name": "python",
   "nbconvert_exporter": "python",
   "pygments_lexer": "ipython3",
   "version": "3.7.6"
  }
 },
 "nbformat": 4,
 "nbformat_minor": 4
}
