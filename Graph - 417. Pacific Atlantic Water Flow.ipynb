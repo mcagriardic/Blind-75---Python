{
 "cells": [
  {
   "cell_type": "markdown",
   "metadata": {},
   "source": [
    "<a href=\"http://localhost:8888/notebooks/Google%20Drive/__ENGINEERING/Blind%2075/Graph%20-%20417.%20Pacific%20Atlantic%20Water%20Flow.ipynb\">417. Pacific Atlantic Water Flow - Medium</a><div class=\"description__24sA\"><div class=\"css-101rr4k\"><div class=\"css-v3d350\" data-cy=\"question-title\"><br><a href=\"https://leetcode.com/problems/pacific-atlantic-water-flow/\">https://leetcode.com/problems/pacific-atlantic-water-flow/</a><br></div></div><div class=\"content__u3I1 question-content__JfgR\"><p>There is an <code>m x n</code> rectangular island that borders both the <strong>Pacific Ocean</strong> and <strong>Atlantic Ocean</strong>. The <strong>Pacific Ocean</strong> touches the island's left and top edges, and the <strong>Atlantic Ocean</strong> touches the island's right and bottom edges.</p>\n",
    "<p>The island is partitioned into a grid of square cells. You are given an <code>m x n</code> integer matrix <code>heights</code> where <code>heights[r][c]</code> represents the <strong>height above sea level</strong> of the cell at coordinate <code>(r, c)</code>.</p>\n",
    "<p>The island receives a lot of rain, and the rain water can flow to neighboring cells directly north, south, east, and west if the neighboring cell's height is <strong>less than or equal to</strong> the current cell's height. Water can flow from any cell adjacent to an ocean into the ocean.</p>\n",
    "<p>Return <em>a <strong>2D list</strong> of grid coordinates </em><code>result</code><em> where </em><code>result[i] = [r<sub>i</sub>, c<sub>i</sub>]</code><em> denotes that rain water can flow from cell </em><code>(r<sub>i</sub>, c<sub>i</sub>)</code><em> to <strong>both</strong> the Pacific and Atlantic oceans</em>.</p>\n",
    "<p><strong>Example 1:</strong></p>\n",
    "<img alt=\"\" src=\"https://assets.leetcode.com/uploads/2021/06/08/waterflow-grid.jpg\" style=\"width: 573px; height: 573px;\">\n",
    "<pre><strong>Input:</strong> heights = [[1,2,2,3,5],[3,2,3,4,4],[2,4,5,3,1],[6,7,1,4,5],[5,1,1,2,4]]\n",
    "<strong>Output:</strong> [[0,4],[1,3],[1,4],[2,2],[3,0],[3,1],[4,0]]\n",
    "</pre>\n",
    "<p><strong>Example 2:</strong></p>\n",
    "<pre><strong>Input:</strong> heights = [[2,1],[1,2]]\n",
    "<strong>Output:</strong> [[0,0],[0,1],[1,0],[1,1]]</pre>\n",
    "<p><strong>Constraints:</strong></p>\n",
    "<ul>\n",
    "<li><code>m == heights.length</code></li>\n",
    "<li><code>n == heights[r].length</code></li>\n",
    "<li><code>1 &lt;= m, n &lt;= 200</code></li>\n",
    "<li><code>0 &lt;= heights[r][c] &lt;= 10<sup>5</sup></code></li></ul></div><div class=\"css-isal7m\"></div></div>"
   ]
  },
  {
   "cell_type": "code",
   "execution_count": 1,
   "metadata": {},
   "outputs": [
    {
     "data": {
      "text/plain": [
       "[(1, 3), (3, 0), (3, 1), (1, 4), (0, 4), (2, 2), (4, 0)]"
      ]
     },
     "execution_count": 1,
     "metadata": {},
     "output_type": "execute_result"
    }
   ],
   "source": [
    "from collections import deque\n",
    "\n",
    "class Solution:\n",
    "    def pacificAtlantic(self, heights):\n",
    "        pacific_queue = deque()\n",
    "        atlantic_queue = deque()\n",
    "        for ri in range(len(heights)):\n",
    "            pacific_queue.append([ri, 0])\n",
    "            atlantic_queue.append([ri, len(heights[0]) - 1])\n",
    "        for ci in range(len(heights[0])):\n",
    "            pacific_queue.append([0, ci])\n",
    "            atlantic_queue.append([len(heights)-1, ci])\n",
    "        def bfs(queue):\n",
    "            reacheable = set()\n",
    "            while queue:\n",
    "                ri, ci = queue.popleft()\n",
    "                reacheable.add(tuple((ri, ci)))\n",
    "                for nri, nci in zip([ri-1, ri+1, ri, ri], [ci, ci, ci-1, ci+1]):\n",
    "                    if (not 0 <= nri < len(heights) or\n",
    "                           not 0 <= nci < len(heights[0]) or\n",
    "                           (nri, nci) in reacheable or\n",
    "                           heights[ri][ci] > heights[nri][nci]):\n",
    "                        continue\n",
    "                    queue.append([nri, nci])\n",
    "            return reacheable\n",
    "        return list(bfs(pacific_queue).intersection(bfs(atlantic_queue)))\n",
    "    \n",
    "islands = [\n",
    "    [1,2,2,3,5],\n",
    "    [3,2,3,4,4],\n",
    "    [2,4,5,3,1],\n",
    "    [6,7,1,4,5],\n",
    "    [5,1,1,2,4]\n",
    "]\n",
    "\n",
    "Solution().pacificAtlantic(islands)"
   ]
  },
  {
   "cell_type": "code",
   "execution_count": null,
   "metadata": {},
   "outputs": [],
   "source": []
  }
 ],
 "metadata": {
  "kernelspec": {
   "display_name": "Python 3",
   "language": "python",
   "name": "python3"
  },
  "language_info": {
   "codemirror_mode": {
    "name": "ipython",
    "version": 3
   },
   "file_extension": ".py",
   "mimetype": "text/x-python",
   "name": "python",
   "nbconvert_exporter": "python",
   "pygments_lexer": "ipython3",
   "version": "3.7.6"
  }
 },
 "nbformat": 4,
 "nbformat_minor": 4
}
