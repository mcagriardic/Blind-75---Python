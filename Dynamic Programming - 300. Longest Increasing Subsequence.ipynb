{
 "cells": [
  {
   "cell_type": "code",
   "execution_count": null,
   "metadata": {},
   "outputs": [],
   "source": []
  },
  {
   "cell_type": "markdown",
   "metadata": {},
   "source": [
    "https://leetcode.com/problems/longest-increasing-subsequence/solution/"
   ]
  },
  {
   "cell_type": "markdown",
   "metadata": {},
   "source": [
    "## 'Naive' DP solution"
   ]
  },
  {
   "cell_type": "code",
   "execution_count": null,
   "metadata": {},
   "outputs": [],
   "source": [
    "class Solution(object):\n",
    "    def lengthOfLIS(self, nums):\n",
    "        table = [1] * len(nums)\n",
    "        for end in range(1, len(nums)):\n",
    "            cur = nums[end]\n",
    "            for start in range(end):\n",
    "                moving = nums[start]\n",
    "                if moving < cur:\n",
    "                    table[end] = max(table[end], table[start] + 1)\n",
    "        return max(table)"
   ]
  },
  {
   "cell_type": "markdown",
   "metadata": {},
   "source": [
    "## No tabulation, but DP (intelligent sequence building)\n",
    "\n",
    "Amazing solution."
   ]
  },
  {
   "cell_type": "code",
   "execution_count": null,
   "metadata": {},
   "outputs": [],
   "source": [
    "class Solution(object):\n",
    "    def lengthOfLIS(self, nums):\n",
    "        seq = [nums[0]]\n",
    "        for i in range(1, len(nums)):\n",
    "            num = nums[i]\n",
    "            if num > seq[-1]:\n",
    "                seq.append(num)\n",
    "            else:\n",
    "                i = 0\n",
    "                while num > seq[i]:\n",
    "                    i += 1\n",
    "                seq[i] = num\n",
    "        return len(seq)"
   ]
  },
  {
   "cell_type": "markdown",
   "metadata": {},
   "source": [
    "## Adding on top of the above solution"
   ]
  },
  {
   "cell_type": "code",
   "execution_count": 2,
   "metadata": {},
   "outputs": [],
   "source": [
    "class Solution:\n",
    "    def lengthOfLIS(self, nums: List[int]) -> int:\n",
    "        sub = []\n",
    "        for num in nums:\n",
    "            i = bisect_left(sub, num)\n",
    "\n",
    "            # If num is greater than any element in sub\n",
    "            if i == len(sub):\n",
    "                sub.append(num)\n",
    "            \n",
    "            # Otherwise, replace the first element in sub greater than or equal to num\n",
    "            else:\n",
    "                sub[i] = num\n",
    "        \n",
    "        return len(sub)"
   ]
  },
  {
   "cell_type": "code",
   "execution_count": null,
   "metadata": {},
   "outputs": [],
   "source": []
  }
 ],
 "metadata": {
  "kernelspec": {
   "display_name": "Python 3",
   "language": "python",
   "name": "python3"
  },
  "language_info": {
   "codemirror_mode": {
    "name": "ipython",
    "version": 3
   },
   "file_extension": ".py",
   "mimetype": "text/x-python",
   "name": "python",
   "nbconvert_exporter": "python",
   "pygments_lexer": "ipython3",
   "version": "3.7.6"
  }
 },
 "nbformat": 4,
 "nbformat_minor": 4
}
