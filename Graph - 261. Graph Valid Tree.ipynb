{
 "cells": [
  {
   "cell_type": "code",
   "execution_count": null,
   "metadata": {},
   "outputs": [],
   "source": []
  },
  {
   "cell_type": "code",
   "execution_count": 1,
   "metadata": {},
   "outputs": [],
   "source": [
    "# will be shared between solutions\n",
    "class Util:\n",
    "    def validTree(self, n, edges):\n",
    "        if len(edges) != n - 1:\n",
    "            return False\n",
    "        \n",
    "    def arr_to_alist(self, edges):\n",
    "        alist = {}\n",
    "        for frm, to in edges:\n",
    "            alist[frm] = alist.get(frm, set()) | {to}\n",
    "            alist[to] = alist.get(to, set()) | {frm}\n",
    "        return alist"
   ]
  },
  {
   "cell_type": "markdown",
   "metadata": {},
   "source": [
    "# Detecting cyclicity in a directed graph \n",
    "### Method 1 (deleting connections)\n",
    "\n",
    "On an undirected graph, like the one we're working with here, trivial \"cycles\" will be detected. For example, if there's an undirected edge between node A and node B, a detected cycle will include A → B → A. This is because an undirected edge is actually 2 edges in the adjacency list, and so forms a trivial cycle.\n",
    "\n",
    "There are several strategies of detecting whether or not an undirected graph contains cycles, while excluding the trivial cycles. First one would be to delete the opposite direction edges from the adjacency list. In other words, when we follow an edge A → B, we should lookup Bs adjacency list and delete A from it, effectively removing the opposite edge of B → A"
   ]
  },
  {
   "cell_type": "code",
   "execution_count": 2,
   "metadata": {},
   "outputs": [
    {
     "name": "stdout",
     "output_type": "stream",
     "text": [
      "False\n",
      "False\n",
      "True\n"
     ]
    }
   ],
   "source": [
    "class Solution(Util):\n",
    "    def validTree(self, n, edges):\n",
    "        if len(edges) != n - 1:\n",
    "            return False\n",
    "\n",
    "        def dfs(alist):\n",
    "            stack = [next(iter(alist))]\n",
    "            visited = {stack[-1]}\n",
    "            while stack:\n",
    "                node = stack.pop()\n",
    "                # prev location of visited (on line 15, visited was instantiated empty)\n",
    "                # this implementation caused the problem of not detecting cycles properly.\n",
    "                for neighbour in alist[node]:\n",
    "                    if neighbour in visited:\n",
    "                        return False\n",
    "                    visited.add(neighbour)\n",
    "                    alist[neighbour].remove(node)\n",
    "                    stack.append(neighbour)\n",
    "            return True\n",
    "\n",
    "        alist = self.arr_to_alist(edges)\n",
    "        if not alist: return True\n",
    "        return dfs(alist)\n",
    "        \n",
    "print(Solution().validTree(5, [[0,1],[0,4],[2,3]])) # no cycle, yes disconnected components -> False\n",
    "print(Solution().validTree(5, [[0,1],[0,4],[1,4],[2,3]])) # has a cycle and disconnected components -> False\n",
    "print(Solution().validTree(5, [[0,1],[0,2],[0,3],[1,4]])) # no cycle -> True"
   ]
  },
  {
   "cell_type": "markdown",
   "metadata": {},
   "source": [
    "### Method 2 (storing parent data)\n",
    "\n",
    "The second strategy is, instead of using a seen set, to use a seen map that also keeps track of the \"parent\" node that we got to a node from. We'll call this map parent. Then, when we iterate through the neighbours of a node, we ignore the \"parent\" node as otherwise it'll be detected as a trivial cycle (and we know that the parent node has already been visited by this point anyway). The starting node (0 in this implementation) has no \"parent\", so put it as -1."
   ]
  },
  {
   "cell_type": "code",
   "execution_count": 3,
   "metadata": {
    "scrolled": true
   },
   "outputs": [
    {
     "name": "stdout",
     "output_type": "stream",
     "text": [
      "False\n",
      "False\n",
      "True\n"
     ]
    }
   ],
   "source": [
    "class Solution(Util):\n",
    "    def validTree(self, n, edges):\n",
    "        if len(edges) != n - 1:\n",
    "            return False\n",
    "\n",
    "        def dfs(alist):\n",
    "            starting_node = next(iter(alist))\n",
    "            parent = {starting_node: -1}\n",
    "            visited = {starting_node}\n",
    "            stack = [starting_node]\n",
    "            while stack:\n",
    "                node = stack.pop()\n",
    "                for neighbour in alist[node]:\n",
    "                    if neighbour == parent[node]:\n",
    "                        continue\n",
    "                    if neighbour in visited:\n",
    "                        return False\n",
    "                    visited.add(neighbour)\n",
    "                    parent[neighbour] = node\n",
    "                    stack.append(neighbour)\n",
    "            return True\n",
    "        alist = self.arr_to_alist(edges)\n",
    "        if not alist: return True\n",
    "        return dfs(alist)\n",
    "        \n",
    "print(Solution().validTree(5, [[0,1],[0,4],[2,3]])) # no cycle, yes disconnected components -> False\n",
    "print(Solution().validTree(5, [[0,1],[0,4],[1,4],[2,3]])) # has a cycle and disconnected components -> False\n",
    "print(Solution().validTree(5, [[0,1],[0,2],[0,3],[1,4]])) # no cycle -> True"
   ]
  },
  {
   "cell_type": "markdown",
   "metadata": {},
   "source": [
    "### Method 3 (Union Find - Not optimised)"
   ]
  },
  {
   "cell_type": "code",
   "execution_count": 4,
   "metadata": {},
   "outputs": [
    {
     "name": "stdout",
     "output_type": "stream",
     "text": [
      "False\n",
      "False\n",
      "True\n"
     ]
    }
   ],
   "source": [
    "class Solution(Util):\n",
    "    def validTree(self, n, edges):\n",
    "        if len(edges) != n - 1:\n",
    "            return False\n",
    "\n",
    "        def make_set(n):\n",
    "            return [node for node in range(n)]\n",
    "\n",
    "        def find(parent, a):\n",
    "            while parent[a] != a:\n",
    "                a = parent[a]\n",
    "            return a\n",
    "        \n",
    "        def union(parent, a, b):\n",
    "            root_a = find(parent, a)\n",
    "            root_b = find(parent, b)\n",
    "            if root_a == root_b:\n",
    "                return False\n",
    "            parent[root_a] = root_b\n",
    "            return True\n",
    "        \n",
    "        parent = make_set(n)\n",
    "        for a, b in edges:\n",
    "            if not union(parent, a, b):\n",
    "                return False\n",
    "        return True\n",
    "\n",
    "print(Solution().validTree(5, [[0,1],[0,4],[2,3]])) # no cycle, yes disconnected components -> False\n",
    "print(Solution().validTree(5, [[0,1],[0,4],[1,4],[2,3]])) # has a cycle and disconnected components -> False\n",
    "print(Solution().validTree(5, [[0,1],[0,2],[0,3],[1,4]])) # no cycle -> True"
   ]
  },
  {
   "cell_type": "markdown",
   "metadata": {},
   "source": [
    "### Method 4 (Union Find - Optimised)"
   ]
  },
  {
   "cell_type": "code",
   "execution_count": 5,
   "metadata": {},
   "outputs": [
    {
     "name": "stdout",
     "output_type": "stream",
     "text": [
      "False\n",
      "False\n",
      "True\n"
     ]
    }
   ],
   "source": [
    "class Solution(Util):\n",
    "    def validTree(self, n, edges):\n",
    "        if len(edges) != n - 1:\n",
    "            return False\n",
    "\n",
    "        def make_set(n):\n",
    "            parent = [node for node in range(n)]\n",
    "            size = [1] * n\n",
    "            return parent, size\n",
    "        \n",
    "        # optimisation 1 - path compression\n",
    "        # Step 1: Find the root.\n",
    "        # Step 2: Do a second traversal, this time setting each node to point\n",
    "        # directly at A as we go.\n",
    "        def find(parent, a):\n",
    "            root = a\n",
    "            while root != parent[root]:\n",
    "                root = parent[root]\n",
    "            while a != root:\n",
    "                old_parent = parent[a]\n",
    "                parent[a] = root\n",
    "                a = old_parent\n",
    "            return root\n",
    "        \n",
    "        # optimisation 2 - union by size\n",
    "        # adding the smaller node set to bigger node set\n",
    "        def union(a, b, parent, size):\n",
    "            root_a = find(parent, a)\n",
    "            root_b = find(parent, b)\n",
    "            if root_a == root_b:\n",
    "                return False\n",
    "            if size[root_a] > size[root_b]:\n",
    "                parent[root_b] = root_a\n",
    "                size[root_a] += size[root_b]\n",
    "            else:\n",
    "                parent[root_a] = root_b\n",
    "                size[root_b] += root_a\n",
    "            return True\n",
    "\n",
    "        parent, size = make_set(n)\n",
    "        for a, b in edges:\n",
    "            if not union(a, b, parent, size):\n",
    "                return False\n",
    "        return True\n",
    "\n",
    "print(Solution().validTree(5, [[0,1],[0,4],[2,3]])) # no cycle, yes disconnected components -> False\n",
    "print(Solution().validTree(5, [[0,1],[0,4],[1,4],[2,3]])) # has a cycle and disconnected components -> False\n",
    "print(Solution().validTree(5, [[0,1],[0,2],[0,3],[1,4]])) # no cycle -> True"
   ]
  },
  {
   "cell_type": "code",
   "execution_count": null,
   "metadata": {},
   "outputs": [],
   "source": []
  }
 ],
 "metadata": {
  "kernelspec": {
   "display_name": "Python 3",
   "language": "python",
   "name": "python3"
  },
  "language_info": {
   "codemirror_mode": {
    "name": "ipython",
    "version": 3
   },
   "file_extension": ".py",
   "mimetype": "text/x-python",
   "name": "python",
   "nbconvert_exporter": "python",
   "pygments_lexer": "ipython3",
   "version": "3.7.6"
  }
 },
 "nbformat": 4,
 "nbformat_minor": 4
}
