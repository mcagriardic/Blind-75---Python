{
 "cells": [
  {
   "cell_type": "code",
   "execution_count": null,
   "metadata": {},
   "outputs": [],
   "source": []
  },
  {
   "cell_type": "markdown",
   "metadata": {},
   "source": [
    "## DP tabulation solution"
   ]
  },
  {
   "cell_type": "code",
   "execution_count": 1,
   "metadata": {},
   "outputs": [],
   "source": [
    "class Solution(object):\n",
    "    def coinChange(self, coins, amount):\n",
    "        table = [0] + [amount + 1] * amount # using amount + 1 here is the catch\n",
    "        coins.sort(reverse=True)\n",
    "        for i in range(1, amount+1):\n",
    "            for coin in coins:\n",
    "                if i >= coin: # along with this statement and the statement below\n",
    "                    table[i] = min(table[i], table[i-coin] + 1) # 'statement below'\n",
    "        return table[amount] if table[amount] != amount + 1 else - 1"
   ]
  },
  {
   "cell_type": "markdown",
   "metadata": {},
   "source": [
    "## Very neat BFS solution"
   ]
  },
  {
   "cell_type": "code",
   "execution_count": null,
   "metadata": {},
   "outputs": [],
   "source": [
    "class Solution(object):\n",
    "    def coinChange(self, coins, amount):\n",
    "        if amount == 0:\n",
    "            return 0\n",
    "        if amount in coins:\n",
    "            return 1\n",
    "        q = deque([[amount, 0]])\n",
    "        seen = {amount}\n",
    "        while q:\n",
    "            left_amount, coins_used = q.popleft()\n",
    "            if left_amount == 0:\n",
    "                return coins_used\n",
    "            for coin in coins:\n",
    "                if left_amount - coin >= 0 and left_amount - coin not in seen:\n",
    "                    q.append([left_amount - coin, coins_used + 1])\n",
    "                    seen.add(left_amount - coin)\n",
    "        return -1"
   ]
  },
  {
   "cell_type": "code",
   "execution_count": null,
   "metadata": {},
   "outputs": [],
   "source": []
  }
 ],
 "metadata": {
  "kernelspec": {
   "display_name": "Python 3",
   "language": "python",
   "name": "python3"
  },
  "language_info": {
   "codemirror_mode": {
    "name": "ipython",
    "version": 3
   },
   "file_extension": ".py",
   "mimetype": "text/x-python",
   "name": "python",
   "nbconvert_exporter": "python",
   "pygments_lexer": "ipython3",
   "version": "3.7.6"
  }
 },
 "nbformat": 4,
 "nbformat_minor": 4
}
