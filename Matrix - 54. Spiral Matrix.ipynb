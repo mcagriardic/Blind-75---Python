{
 "cells": [
  {
   "cell_type": "code",
   "execution_count": null,
   "metadata": {},
   "outputs": [],
   "source": []
  },
  {
   "cell_type": "code",
   "execution_count": 1,
   "metadata": {},
   "outputs": [],
   "source": [
    "class Solution:\n",
    "    def spiralOrder(self, matrix):\n",
    "        rlen = len(matrix)\n",
    "        clen = len(matrix[0])\n",
    "        answer = []\n",
    "        sr, er = 0, rlen - 1\n",
    "        sc, ec = 0, clen - 1\n",
    "        while sr <= er and sc <= ec:\n",
    "            # right\n",
    "            for col in range(sc, ec+1):\n",
    "                answer.append(matrix[sr][col])\n",
    "            # down\n",
    "            for row in range(sr + 1, er + 1):\n",
    "                answer.append(matrix[row][ec])\n",
    "            # left\n",
    "            if sr != er:\n",
    "                for col in reversed(range(sc, ec)):\n",
    "                    answer.append(matrix[er][col])\n",
    "            # up\n",
    "            if sc != ec:\n",
    "                for row in reversed(range(sr+1, er)):\n",
    "                    answer.append(matrix[row][sc])\n",
    "            sr += 1; er -= 1\n",
    "            sc += 1; ec -= 1\n",
    "        return answer"
   ]
  },
  {
   "cell_type": "code",
   "execution_count": 2,
   "metadata": {},
   "outputs": [
    {
     "data": {
      "text/plain": [
       "[1, 2, 3, 4, 8, 12, 11, 10, 9, 5, 6, 7]"
      ]
     },
     "execution_count": 2,
     "metadata": {},
     "output_type": "execute_result"
    }
   ],
   "source": [
    "Solution().spiralOrder([[1,2,3,4],[5,6,7,8],[9,10,11,12]])"
   ]
  },
  {
   "cell_type": "code",
   "execution_count": null,
   "metadata": {},
   "outputs": [],
   "source": []
  }
 ],
 "metadata": {
  "kernelspec": {
   "display_name": "Python 3",
   "language": "python",
   "name": "python3"
  },
  "language_info": {
   "codemirror_mode": {
    "name": "ipython",
    "version": 3
   },
   "file_extension": ".py",
   "mimetype": "text/x-python",
   "name": "python",
   "nbconvert_exporter": "python",
   "pygments_lexer": "ipython3",
   "version": "3.7.6"
  }
 },
 "nbformat": 4,
 "nbformat_minor": 4
}
