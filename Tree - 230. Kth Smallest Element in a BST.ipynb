{
 "cells": [
  {
   "cell_type": "code",
   "execution_count": null,
   "metadata": {},
   "outputs": [],
   "source": []
  },
  {
   "cell_type": "code",
   "execution_count": null,
   "metadata": {},
   "outputs": [],
   "source": []
  },
  {
   "cell_type": "code",
   "execution_count": 8,
   "metadata": {},
   "outputs": [
    {
     "data": {
      "text/plain": [
       "1"
      ]
     },
     "execution_count": 8,
     "metadata": {},
     "output_type": "execute_result"
    }
   ],
   "source": [
    "class TreeNode:\n",
    "    def __init__(self, val=0, left=None, right=None):\n",
    "        self.val = val\n",
    "        self.left = left\n",
    "        self.right = right\n",
    "        \n",
    "three = TreeNode(3)\n",
    "four = TreeNode(4)\n",
    "one = TreeNode(1)\n",
    "two = TreeNode(2)\n",
    "\n",
    "#          3\n",
    "#        /   \\\n",
    "#       1     4\n",
    "#        \\\n",
    "#         2\n",
    "\n",
    "three.left = one\n",
    "three.right = four\n",
    "one.right = two\n",
    "\n",
    "class Solution:\n",
    "    def kthSmallest(self, root, k):\n",
    "        counter = 0\n",
    "        ans = None\n",
    "        def traverse(root):\n",
    "            nonlocal ans, counter\n",
    "            if not root or ans:\n",
    "                return\n",
    "            traverse(root.left)\n",
    "            counter += 1\n",
    "            if counter == k:\n",
    "                ans = root.val\n",
    "                return \n",
    "            traverse(root.right)\n",
    "        traverse(root)\n",
    "        return ans\n",
    "    \n",
    "Solution().kthSmallest(three, 1)"
   ]
  },
  {
   "cell_type": "code",
   "execution_count": null,
   "metadata": {},
   "outputs": [],
   "source": []
  }
 ],
 "metadata": {
  "kernelspec": {
   "display_name": "Python 3",
   "language": "python",
   "name": "python3"
  },
  "language_info": {
   "codemirror_mode": {
    "name": "ipython",
    "version": 3
   },
   "file_extension": ".py",
   "mimetype": "text/x-python",
   "name": "python",
   "nbconvert_exporter": "python",
   "pygments_lexer": "ipython3",
   "version": "3.7.6"
  }
 },
 "nbformat": 4,
 "nbformat_minor": 4
}
