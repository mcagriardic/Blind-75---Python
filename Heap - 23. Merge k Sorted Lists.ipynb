{
 "cells": [
  {
   "cell_type": "code",
   "execution_count": null,
   "metadata": {},
   "outputs": [],
   "source": []
  },
  {
   "cell_type": "markdown",
   "metadata": {},
   "source": [
    "## Suboptimal solution, without heap"
   ]
  },
  {
   "cell_type": "code",
   "execution_count": null,
   "metadata": {},
   "outputs": [],
   "source": [
    "import heapq\n",
    "\n",
    "class Solution:\n",
    "    def mergeKLists(self, lists):\n",
    "        def find_min_pointer(pointers):\n",
    "            ans_idx = -1\n",
    "            ans = ListNode(float('inf'))\n",
    "            for i, pointer in enumerate(pointers):\n",
    "                if pointer.val < ans.val:\n",
    "                    ans_idx = i\n",
    "                    ans = pointer\n",
    "            return ans, i\n",
    "        \n",
    "        pointers = {node for node in lists if node}\n",
    "        start = cur = None\n",
    "        while pointers:\n",
    "            pointer, i = find_min_pointer(pointers)\n",
    "            node = ListNode(pointer.val)\n",
    "            if cur:\n",
    "                cur.next = node\n",
    "                cur = node\n",
    "            else:\n",
    "                start = cur = node\n",
    "            pointers.remove(pointer)\n",
    "            if pointer.next:\n",
    "                pointers.add(pointer.next)\n",
    "        return start"
   ]
  },
  {
   "cell_type": "markdown",
   "metadata": {},
   "source": [
    "## Heap solution (ListNodeCustom is a wrapper class around ListNode)\n",
    "This solution is necessary as leetcode's heap doesn't allow (node.val, node) kind of push to the heap. It throws \"< is not supported between ListNode and Listnode\". This doesn't happen with jupyter here."
   ]
  },
  {
   "cell_type": "code",
   "execution_count": null,
   "metadata": {},
   "outputs": [],
   "source": [
    "import heapq\n",
    "\n",
    "class Solution:\n",
    "    def mergeKLists(self, lists):\n",
    "        class ListNodeCustom:\n",
    "            def __init__(self, node):\n",
    "                self.node = node\n",
    "\n",
    "            def __lt__(self, other):\n",
    "                return self.node.val < other.node.val\n",
    "        \n",
    "        h = []\n",
    "        for node in lists:\n",
    "            if node:\n",
    "                heapq.heappush(h, ListNodeCustom(node))\n",
    "        start = cur = None\n",
    "        while h:\n",
    "            custom_node = heapq.heappop(h)\n",
    "            node = ListNode(custom_node.node.val)\n",
    "            if cur:\n",
    "                cur.next = node\n",
    "                cur = node\n",
    "            else:\n",
    "                start = cur = node\n",
    "            if custom_node.node.next:\n",
    "                heapq.heappush(h, ListNodeCustom(custom_node.node.next))\n",
    "        return start"
   ]
  },
  {
   "cell_type": "markdown",
   "metadata": {},
   "source": [
    "## No Wrapper Class Solution"
   ]
  },
  {
   "cell_type": "code",
   "execution_count": null,
   "metadata": {},
   "outputs": [],
   "source": [
    "import heapq\n",
    "\n",
    "class Solution:\n",
    "    def mergeKLists(self, lists):\n",
    "        h = []\n",
    "        for node in lists:\n",
    "            if node:\n",
    "                heapq.heappush(h, (node.val, node))\n",
    "        start = cur = None\n",
    "        while h:\n",
    "            nval, n = heapq.heappop(h)\n",
    "            node = ListNode(nval)\n",
    "            if cur:\n",
    "                cur.next = node\n",
    "                cur = node\n",
    "            else:\n",
    "                start = cur = node\n",
    "            if n.next:\n",
    "                heapq.heappush(h, (n.next.val, n.next))\n",
    "        return start"
   ]
  },
  {
   "cell_type": "code",
   "execution_count": null,
   "metadata": {},
   "outputs": [],
   "source": []
  },
  {
   "cell_type": "code",
   "execution_count": null,
   "metadata": {},
   "outputs": [],
   "source": []
  },
  {
   "cell_type": "code",
   "execution_count": null,
   "metadata": {},
   "outputs": [],
   "source": []
  }
 ],
 "metadata": {
  "kernelspec": {
   "display_name": "Python 3",
   "language": "python",
   "name": "python3"
  },
  "language_info": {
   "codemirror_mode": {
    "name": "ipython",
    "version": 3
   },
   "file_extension": ".py",
   "mimetype": "text/x-python",
   "name": "python",
   "nbconvert_exporter": "python",
   "pygments_lexer": "ipython3",
   "version": "3.7.6"
  }
 },
 "nbformat": 4,
 "nbformat_minor": 4
}
